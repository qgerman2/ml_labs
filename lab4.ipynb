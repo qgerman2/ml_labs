{
 "cells": [
  {
   "cell_type": "code",
   "execution_count": 3,
   "id": "031ef8f1-b90c-404f-a040-26a96d233135",
   "metadata": {},
   "outputs": [],
   "source": [
    "import pandas as pd \n",
    "import numpy as np\n",
    "\n",
    "from sklearn.neural_network import MLPRegressor\n",
    "from sklearn.model_selection import train_test_split\n",
    "from sklearn.metrics import mean_squared_error\n",
    "from sklearn.metrics import r2_score"
   ]
  },
  {
   "cell_type": "code",
   "execution_count": 7,
   "id": "f1426043-14db-49e6-b5d4-889801ec5c0e",
   "metadata": {},
   "outputs": [],
   "source": [
    "df = pd.read_excel ('gas-turbine.xlsx')\n",
    "X = np.array(df[[\n",
    "'t_in_comp','t_housing_comp','t_housing2_turb','t_housing4_turb','t_out_turb','gas_fuel_flow','gas_fuel_pres','liq_fuel_flow','liq_fuel_pres']])\n",
    "y = np.array(df[['real_power','app_power','react_power']])"
   ]
  },
  {
   "cell_type": "markdown",
   "id": "b1ef8d27-997a-4e59-803b-58f08c22224e",
   "metadata": {},
   "source": [
    "## Ejercicio 1"
   ]
  },
  {
   "cell_type": "code",
   "execution_count": 15,
   "id": "e73288f4-975e-464d-940f-d724d0ff403e",
   "metadata": {},
   "outputs": [
    {
     "data": {
      "text/html": [
       "<div>\n",
       "<style scoped>\n",
       "    .dataframe tbody tr th:only-of-type {\n",
       "        vertical-align: middle;\n",
       "    }\n",
       "\n",
       "    .dataframe tbody tr th {\n",
       "        vertical-align: top;\n",
       "    }\n",
       "\n",
       "    .dataframe thead th {\n",
       "        text-align: right;\n",
       "    }\n",
       "</style>\n",
       "<table border=\"1\" class=\"dataframe\">\n",
       "  <thead>\n",
       "    <tr style=\"text-align: right;\">\n",
       "      <th></th>\n",
       "      <th>MSE</th>\n",
       "      <th>R2</th>\n",
       "    </tr>\n",
       "  </thead>\n",
       "  <tbody>\n",
       "    <tr>\n",
       "      <th>Train</th>\n",
       "      <td>452182.038767</td>\n",
       "      <td>0.661319</td>\n",
       "    </tr>\n",
       "    <tr>\n",
       "      <th>Test</th>\n",
       "      <td>153271.321075</td>\n",
       "      <td>0.712032</td>\n",
       "    </tr>\n",
       "  </tbody>\n",
       "</table>\n",
       "</div>"
      ],
      "text/plain": [
       "                 MSE        R2\n",
       "Train  452182.038767  0.661319\n",
       "Test   153271.321075  0.712032"
      ]
     },
     "metadata": {},
     "output_type": "display_data"
    },
    {
     "name": "stdout",
     "output_type": "stream",
     "text": [
      "20% Test, hiperparámetros por defecto\n"
     ]
    }
   ],
   "source": [
    "X_train, X_test, y_train, y_test = train_test_split(X, y, test_size=0.2, random_state=0)\n",
    "\n",
    "clf = MLPRegressor(max_iter=1000, random_state=0)\n",
    "clf.fit(X_train, y_train)\n",
    "\n",
    "y_train_predict = clf.predict(X_train)\n",
    "y_test_predict = clf.predict(X_test)\n",
    "\n",
    "mse_train = mean_squared_error(y_train, y_train_predict)\n",
    "mse_test = mean_squared_error(y_test, y_test_predict)\n",
    "r2_train = r2_score(y_train, y_train_predict)\n",
    "r2_test = r2_score(y_test, y_test_predict)\n",
    "display(pd.DataFrame([[mse_train, r2_train], [mse_test, r2_test]], index = [\"Train\", \"Test\"], columns = [\"MSE\", \"R2\"]))\n",
    "print(\"20% Test, hiperparámetros por defecto\")"
   ]
  },
  {
   "cell_type": "markdown",
   "id": "239cd6de-df68-4594-8346-19914430ff70",
   "metadata": {},
   "source": [
    "## Ejercicio 2"
   ]
  },
  {
   "cell_type": "code",
   "execution_count": null,
   "id": "75ec281d-4aec-44e0-be58-22389deffda1",
   "metadata": {},
   "outputs": [],
   "source": []
  }
 ],
 "metadata": {
  "kernelspec": {
   "display_name": "Python 3 (ipykernel)",
   "language": "python",
   "name": "python3"
  },
  "language_info": {
   "codemirror_mode": {
    "name": "ipython",
    "version": 3
   },
   "file_extension": ".py",
   "mimetype": "text/x-python",
   "name": "python",
   "nbconvert_exporter": "python",
   "pygments_lexer": "ipython3",
   "version": "3.9.13"
  }
 },
 "nbformat": 4,
 "nbformat_minor": 5
}
