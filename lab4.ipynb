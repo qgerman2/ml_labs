{
 "cells": [
  {
   "cell_type": "code",
   "execution_count": 1,
   "id": "031ef8f1-b90c-404f-a040-26a96d233135",
   "metadata": {},
   "outputs": [],
   "source": [
    "import pandas as pd \n",
    "import numpy as np\n",
    "import matplotlib.pyplot as plt\n",
    "\n",
    "from sklearn.neural_network import MLPRegressor\n",
    "from sklearn.model_selection import train_test_split\n",
    "from sklearn.model_selection import GridSearchCV\n",
    "from sklearn.metrics import mean_squared_error\n",
    "from sklearn.metrics import r2_score\n",
    "from sklearn.preprocessing import MaxAbsScaler"
   ]
  },
  {
   "cell_type": "code",
   "execution_count": 2,
   "id": "f1426043-14db-49e6-b5d4-889801ec5c0e",
   "metadata": {},
   "outputs": [],
   "source": [
    "df = pd.read_excel ('gas-turbine.xlsx')\n",
    "X = np.array(df[[\n",
    "'t_in_comp','t_housing_comp','t_housing2_turb','t_housing4_turb','t_out_turb','gas_fuel_flow','gas_fuel_pres','liq_fuel_flow','liq_fuel_pres']])\n",
    "y = np.array(df[['real_power','app_power','react_power']])"
   ]
  },
  {
   "cell_type": "markdown",
   "id": "b1ef8d27-997a-4e59-803b-58f08c22224e",
   "metadata": {},
   "source": [
    "## Ejercicio 1"
   ]
  },
  {
   "cell_type": "code",
   "execution_count": 3,
   "id": "e73288f4-975e-464d-940f-d724d0ff403e",
   "metadata": {},
   "outputs": [
    {
     "data": {
      "text/html": [
       "<div>\n",
       "<style scoped>\n",
       "    .dataframe tbody tr th:only-of-type {\n",
       "        vertical-align: middle;\n",
       "    }\n",
       "\n",
       "    .dataframe tbody tr th {\n",
       "        vertical-align: top;\n",
       "    }\n",
       "\n",
       "    .dataframe thead th {\n",
       "        text-align: right;\n",
       "    }\n",
       "</style>\n",
       "<table border=\"1\" class=\"dataframe\">\n",
       "  <thead>\n",
       "    <tr style=\"text-align: right;\">\n",
       "      <th></th>\n",
       "      <th>MSE</th>\n",
       "      <th>R2</th>\n",
       "    </tr>\n",
       "  </thead>\n",
       "  <tbody>\n",
       "    <tr>\n",
       "      <th>Train</th>\n",
       "      <td>452182.038767</td>\n",
       "      <td>0.661319</td>\n",
       "    </tr>\n",
       "    <tr>\n",
       "      <th>Test</th>\n",
       "      <td>153271.321075</td>\n",
       "      <td>0.712032</td>\n",
       "    </tr>\n",
       "  </tbody>\n",
       "</table>\n",
       "</div>"
      ],
      "text/plain": [
       "                 MSE        R2\n",
       "Train  452182.038767  0.661319\n",
       "Test   153271.321075  0.712032"
      ]
     },
     "metadata": {},
     "output_type": "display_data"
    },
    {
     "name": "stdout",
     "output_type": "stream",
     "text": [
      "20% Test, hiperparámetros por defecto\n"
     ]
    }
   ],
   "source": [
    "X_train, X_test, y_train, y_test = train_test_split(X, y, test_size=0.2, random_state=0)\n",
    "\n",
    "clf = MLPRegressor(random_state=0)\n",
    "clf.fit(X_train, y_train)\n",
    "\n",
    "y_train_predict = clf.predict(X_train)\n",
    "y_test_predict = clf.predict(X_test)\n",
    "\n",
    "mse_train = mean_squared_error(y_train, y_train_predict)\n",
    "mse_test = mean_squared_error(y_test, y_test_predict)\n",
    "r2_train = r2_score(y_train, y_train_predict)\n",
    "r2_test = r2_score(y_test, y_test_predict)\n",
    "res_ejercicio1 = pd.DataFrame([[mse_train, r2_train], [mse_test, r2_test]],\n",
    "                              index = [\"Train\", \"Test\"],\n",
    "                              columns = [\"MSE\", \"R2\"])\n",
    "display(res_ejercicio1)\n",
    "print(\"20% Test, hiperparámetros por defecto\")"
   ]
  },
  {
   "cell_type": "markdown",
   "id": "239cd6de-df68-4594-8346-19914430ff70",
   "metadata": {},
   "source": [
    "## Ejercicio 2"
   ]
  },
  {
   "cell_type": "code",
   "execution_count": 4,
   "id": "75ec281d-4aec-44e0-be58-22389deffda1",
   "metadata": {},
   "outputs": [
    {
     "data": {
      "text/plain": [
       "[0, 452182.0387666744, 153271.3210746133]"
      ]
     },
     "metadata": {},
     "output_type": "display_data"
    },
    {
     "name": "stderr",
     "output_type": "stream",
     "text": [
      "C:\\Users\\asd\\anaconda3\\lib\\site-packages\\sklearn\\neural_network\\_multilayer_perceptron.py:692: ConvergenceWarning: Stochastic Optimizer: Maximum iterations (200) reached and the optimization hasn't converged yet.\n",
      "  warnings.warn(\n"
     ]
    },
    {
     "data": {
      "text/plain": [
       "[1, 455718.6415533912, 160870.33206352327]"
      ]
     },
     "metadata": {},
     "output_type": "display_data"
    },
    {
     "data": {
      "text/plain": [
       "[2, 455622.2645730108, 159789.30282049495]"
      ]
     },
     "metadata": {},
     "output_type": "display_data"
    },
    {
     "name": "stderr",
     "output_type": "stream",
     "text": [
      "C:\\Users\\asd\\anaconda3\\lib\\site-packages\\sklearn\\neural_network\\_multilayer_perceptron.py:692: ConvergenceWarning: Stochastic Optimizer: Maximum iterations (200) reached and the optimization hasn't converged yet.\n",
      "  warnings.warn(\n"
     ]
    },
    {
     "data": {
      "text/plain": [
       "[3, 453998.07198440394, 157668.16227367066]"
      ]
     },
     "metadata": {},
     "output_type": "display_data"
    },
    {
     "name": "stderr",
     "output_type": "stream",
     "text": [
      "C:\\Users\\asd\\anaconda3\\lib\\site-packages\\sklearn\\neural_network\\_multilayer_perceptron.py:692: ConvergenceWarning: Stochastic Optimizer: Maximum iterations (200) reached and the optimization hasn't converged yet.\n",
      "  warnings.warn(\n"
     ]
    },
    {
     "data": {
      "text/plain": [
       "[4, 449623.8224702138, 151217.10706127237]"
      ]
     },
     "metadata": {},
     "output_type": "display_data"
    },
    {
     "data": {
      "text/plain": [
       "[5, 452872.73790301173, 155430.2644288343]"
      ]
     },
     "metadata": {},
     "output_type": "display_data"
    },
    {
     "name": "stderr",
     "output_type": "stream",
     "text": [
      "C:\\Users\\asd\\anaconda3\\lib\\site-packages\\sklearn\\neural_network\\_multilayer_perceptron.py:692: ConvergenceWarning: Stochastic Optimizer: Maximum iterations (200) reached and the optimization hasn't converged yet.\n",
      "  warnings.warn(\n"
     ]
    },
    {
     "data": {
      "text/plain": [
       "[6, 454313.3909579727, 158569.40379458823]"
      ]
     },
     "metadata": {},
     "output_type": "display_data"
    },
    {
     "name": "stderr",
     "output_type": "stream",
     "text": [
      "C:\\Users\\asd\\anaconda3\\lib\\site-packages\\sklearn\\neural_network\\_multilayer_perceptron.py:692: ConvergenceWarning: Stochastic Optimizer: Maximum iterations (200) reached and the optimization hasn't converged yet.\n",
      "  warnings.warn(\n"
     ]
    },
    {
     "data": {
      "text/plain": [
       "[7, 453312.2915525716, 156908.4780343962]"
      ]
     },
     "metadata": {},
     "output_type": "display_data"
    },
    {
     "data": {
      "text/plain": [
       "[8, 455071.71572623006, 158790.03331001077]"
      ]
     },
     "metadata": {},
     "output_type": "display_data"
    },
    {
     "name": "stderr",
     "output_type": "stream",
     "text": [
      "C:\\Users\\asd\\anaconda3\\lib\\site-packages\\sklearn\\neural_network\\_multilayer_perceptron.py:692: ConvergenceWarning: Stochastic Optimizer: Maximum iterations (200) reached and the optimization hasn't converged yet.\n",
      "  warnings.warn(\n"
     ]
    },
    {
     "data": {
      "text/plain": [
       "[9, 454036.2360475808, 156702.78601086614]"
      ]
     },
     "metadata": {},
     "output_type": "display_data"
    },
    {
     "name": "stderr",
     "output_type": "stream",
     "text": [
      "C:\\Users\\asd\\anaconda3\\lib\\site-packages\\sklearn\\neural_network\\_multilayer_perceptron.py:692: ConvergenceWarning: Stochastic Optimizer: Maximum iterations (200) reached and the optimization hasn't converged yet.\n",
      "  warnings.warn(\n"
     ]
    },
    {
     "data": {
      "text/plain": [
       "[10, 451309.7409077356, 153171.8663986098]"
      ]
     },
     "metadata": {},
     "output_type": "display_data"
    },
    {
     "data": {
      "text/plain": [
       "[11, 458336.956243481, 161183.07470073036]"
      ]
     },
     "metadata": {},
     "output_type": "display_data"
    },
    {
     "name": "stderr",
     "output_type": "stream",
     "text": [
      "C:\\Users\\asd\\anaconda3\\lib\\site-packages\\sklearn\\neural_network\\_multilayer_perceptron.py:692: ConvergenceWarning: Stochastic Optimizer: Maximum iterations (200) reached and the optimization hasn't converged yet.\n",
      "  warnings.warn(\n"
     ]
    },
    {
     "data": {
      "text/plain": [
       "[12, 455552.67217489984, 159342.7885023095]"
      ]
     },
     "metadata": {},
     "output_type": "display_data"
    },
    {
     "data": {
      "text/plain": [
       "[13, 457126.3006203256, 161235.27451522573]"
      ]
     },
     "metadata": {},
     "output_type": "display_data"
    },
    {
     "data": {
      "text/plain": [
       "[14, 454633.8509942377, 157319.19688894015]"
      ]
     },
     "metadata": {},
     "output_type": "display_data"
    },
    {
     "name": "stderr",
     "output_type": "stream",
     "text": [
      "C:\\Users\\asd\\anaconda3\\lib\\site-packages\\sklearn\\neural_network\\_multilayer_perceptron.py:692: ConvergenceWarning: Stochastic Optimizer: Maximum iterations (200) reached and the optimization hasn't converged yet.\n",
      "  warnings.warn(\n"
     ]
    },
    {
     "data": {
      "text/plain": [
       "[15, 451554.5104770139, 154288.91093619235]"
      ]
     },
     "metadata": {},
     "output_type": "display_data"
    },
    {
     "data": {
      "text/plain": [
       "[16, 455515.50868787564, 159432.8344044283]"
      ]
     },
     "metadata": {},
     "output_type": "display_data"
    },
    {
     "name": "stderr",
     "output_type": "stream",
     "text": [
      "C:\\Users\\asd\\anaconda3\\lib\\site-packages\\sklearn\\neural_network\\_multilayer_perceptron.py:692: ConvergenceWarning: Stochastic Optimizer: Maximum iterations (200) reached and the optimization hasn't converged yet.\n",
      "  warnings.warn(\n"
     ]
    },
    {
     "data": {
      "text/plain": [
       "[17, 453272.8598973464, 156254.30098018888]"
      ]
     },
     "metadata": {},
     "output_type": "display_data"
    },
    {
     "name": "stderr",
     "output_type": "stream",
     "text": [
      "C:\\Users\\asd\\anaconda3\\lib\\site-packages\\sklearn\\neural_network\\_multilayer_perceptron.py:692: ConvergenceWarning: Stochastic Optimizer: Maximum iterations (200) reached and the optimization hasn't converged yet.\n",
      "  warnings.warn(\n"
     ]
    },
    {
     "data": {
      "text/plain": [
       "[18, 451526.55376359244, 155914.18065109095]"
      ]
     },
     "metadata": {},
     "output_type": "display_data"
    },
    {
     "name": "stderr",
     "output_type": "stream",
     "text": [
      "C:\\Users\\asd\\anaconda3\\lib\\site-packages\\sklearn\\neural_network\\_multilayer_perceptron.py:692: ConvergenceWarning: Stochastic Optimizer: Maximum iterations (200) reached and the optimization hasn't converged yet.\n",
      "  warnings.warn(\n"
     ]
    },
    {
     "data": {
      "text/plain": [
       "[19, 457173.0418689733, 161719.32709449888]"
      ]
     },
     "metadata": {},
     "output_type": "display_data"
    }
   ],
   "source": [
    "resultado = []\n",
    "for i in range(20):\n",
    "    clf = MLPRegressor(random_state=i)\n",
    "    clf.fit(X_train, y_train)\n",
    "\n",
    "    y_train_predict = clf.predict(X_train)\n",
    "    y_test_predict = clf.predict(X_test)\n",
    "    \n",
    "    mse_train = mean_squared_error(y_train, y_train_predict)\n",
    "    mse_test = mean_squared_error(y_test, y_test_predict)\n",
    "    resultado.append([i, mse_train, mse_test])\n",
    "    display([i, mse_train, mse_test])\n",
    "resultado = np.array(resultado)"
   ]
  },
  {
   "cell_type": "code",
   "execution_count": 5,
   "id": "68865834-4eda-410d-ba54-9b70ddef41ef",
   "metadata": {},
   "outputs": [
    {
     "data": {
      "image/png": "[encoded data removed]",
      "text/plain": [
       "<Figure size 432x288 with 1 Axes>"
      ]
     },
     "metadata": {
      "needs_background": "light"
     },
     "output_type": "display_data"
    }
   ],
   "source": [
    "plt.plot(resultado[:,0], resultado[:,1], color='blue')\n",
    "plt.plot(resultado[:,0], resultado[:,2], color='red')\n",
    "plt.xlabel('Random state')\n",
    "plt.legend([\"MSE Training\", \"MSE Test\"])\n",
    "plt.show()"
   ]
  },
  {
   "cell_type": "markdown",
   "id": "ee9c633c-92e8-428f-93f6-978d250e9818",
   "metadata": {},
   "source": [
    "## Ejercicio 3"
   ]
  },
  {
   "cell_type": "code",
   "execution_count": 6,
   "id": "20bcbc07-80ab-4f67-83c4-f30ae708c4ad",
   "metadata": {},
   "outputs": [
    {
     "name": "stderr",
     "output_type": "stream",
     "text": [
      "C:\\Users\\asd\\anaconda3\\lib\\site-packages\\sklearn\\neural_network\\_multilayer_perceptron.py:692: ConvergenceWarning: Stochastic Optimizer: Maximum iterations (200) reached and the optimization hasn't converged yet.\n",
      "  warnings.warn(\n"
     ]
    },
    {
     "data": {
      "text/plain": [
       "[0, 674140.7443836366, 376153.18348640733, ()]"
      ]
     },
     "metadata": {},
     "output_type": "display_data"
    },
    {
     "name": "stderr",
     "output_type": "stream",
     "text": [
      "C:\\Users\\asd\\anaconda3\\lib\\site-packages\\sklearn\\neural_network\\_multilayer_perceptron.py:692: ConvergenceWarning: Stochastic Optimizer: Maximum iterations (200) reached and the optimization hasn't converged yet.\n",
      "  warnings.warn(\n"
     ]
    },
    {
     "data": {
      "text/plain": [
       "[1, 458140.7544868105, 164329.25612542432, (50,)]"
      ]
     },
     "metadata": {},
     "output_type": "display_data"
    },
    {
     "data": {
      "text/plain": [
       "[2, 440553.078417822, 140780.62542471243, (50, 50)]"
      ]
     },
     "metadata": {},
     "output_type": "display_data"
    },
    {
     "data": {
      "text/plain": [
       "[3, 441023.1376495136, 140409.91387292303, (50, 50, 50)]"
      ]
     },
     "metadata": {},
     "output_type": "display_data"
    },
    {
     "data": {
      "text/plain": [
       "[4, 437637.5844939851, 138445.29881975192, (50, 50, 50, 50)]"
      ]
     },
     "metadata": {},
     "output_type": "display_data"
    },
    {
     "data": {
      "text/plain": [
       "[5, 454487.95623740903, 153367.26194067902, (50, 50, 50, 50, 50)]"
      ]
     },
     "metadata": {},
     "output_type": "display_data"
    },
    {
     "data": {
      "text/plain": [
       "[6, 435169.2644440208, 136755.25679409728, (50, 50, 50, 50, 50, 50)]"
      ]
     },
     "metadata": {},
     "output_type": "display_data"
    }
   ],
   "source": [
    "resultado = []\n",
    "for i in range(7):\n",
    "    capas = ((50,)*i)\n",
    "    clf = MLPRegressor(hidden_layer_sizes=capas, random_state=0)\n",
    "    clf.fit(X_train, y_train)\n",
    "\n",
    "    y_train_predict = clf.predict(X_train)\n",
    "    y_test_predict = clf.predict(X_test)\n",
    "\n",
    "    mse_train = mean_squared_error(y_train, y_train_predict)\n",
    "    mse_test = mean_squared_error(y_test, y_test_predict)\n",
    "    res = [i, mse_train, mse_test]\n",
    "    resultado.append(res)\n",
    "    display([i, mse_train, mse_test, capas])\n",
    "resultado = np.array(resultado)"
   ]
  },
  {
   "cell_type": "code",
   "execution_count": 7,
   "id": "502aee69-0d74-4900-8c71-8f3d16593219",
   "metadata": {},
   "outputs": [
    {
     "data": {
      "image/png": "[encoded data removed]",
      "text/plain": [
       "<Figure size 432x288 with 1 Axes>"
      ]
     },
     "metadata": {
      "needs_background": "light"
     },
     "output_type": "display_data"
    }
   ],
   "source": [
    "plt.plot(resultado[:,0], resultado[:,1], color='blue')\n",
    "plt.plot(resultado[:,0], resultado[:,2], color='red')\n",
    "plt.xlabel('Random state')\n",
    "plt.legend([\"MSE Training\", \"MSE Test\"])\n",
    "plt.show()"
   ]
  },
  {
   "cell_type": "markdown",
   "id": "63aa09b1-5ae1-4a40-b2bc-ba3ddbeb9af7",
   "metadata": {},
   "source": [
    "## Ejercicio 4"
   ]
  },
  {
   "cell_type": "code",
   "execution_count": 8,
   "id": "f2ec51ba-460c-4799-b65f-654c6b2c2215",
   "metadata": {},
   "outputs": [],
   "source": [
    "scaler = MaxAbsScaler().fit(X)\n",
    "X_train_scaled = scaler.transform(X_train)\n",
    "X_test_scaled = scaler.transform(X_test)"
   ]
  },
  {
   "cell_type": "code",
   "execution_count": 9,
   "id": "0848454b-bf8e-4d20-9726-80957081c09d",
   "metadata": {},
   "outputs": [
    {
     "name": "stdout",
     "output_type": "stream",
     "text": [
      "Primera iteración\n",
      "[[{'activation': 'relu', 'alpha': 0.01, 'batch_size': 100, 'hidden_layer_sizes': (50, 50, 50, 50, 50, 50), 'max_iter': 200}\n",
      "  1 -440940.99279557256]\n",
      " [{'activation': 'relu', 'alpha': 0.01, 'batch_size': 100, 'hidden_layer_sizes': (50, 50, 50, 50, 50, 50), 'max_iter': 400}\n",
      "  1 -440940.99279557256]]\n"
     ]
    }
   ],
   "source": [
    "mlp = MLPRegressor(random_state = 0, solver='adam')\n",
    "parameters = {'max_iter':[200, 400], \n",
    "              'hidden_layer_sizes':[((50,)*3), ((50,)*6)],\n",
    "              'activation': ('identity', 'relu'),\n",
    "              'alpha': [0.01, 1],\n",
    "              'batch_size': [1,100]}\n",
    "clf = GridSearchCV(mlp, parameters, scoring='neg_mean_squared_error', cv=2, n_jobs=-1, verbose=0)\n",
    "clf.fit(X_train_scaled, y_train)\n",
    "mydict = {'params':clf.cv_results_['params'],\n",
    "          'rank_test_score':clf.cv_results_['rank_test_score'],\n",
    "          'mean_test_score':clf.cv_results_['mean_test_score']}\n",
    "mydata = pd.DataFrame.from_dict(mydict)\n",
    "print(\"Primera iteración\")\n",
    "print(mydata[mydata.rank_test_score == 1].to_numpy())"
   ]
  },
  {
   "cell_type": "code",
   "execution_count": 10,
   "id": "633ec400-c76e-43f8-af62-1b063f45a21a",
   "metadata": {},
   "outputs": [
    {
     "name": "stdout",
     "output_type": "stream",
     "text": [
      "Segunda iteración\n",
      "[[{'alpha': 0.01, 'batch_size': 100, 'hidden_layer_sizes': (50, 50, 50, 50, 50, 50)}\n",
      "  1 -440940.99279557256]]\n"
     ]
    }
   ],
   "source": [
    "mlp = MLPRegressor(random_state = 0, solver='adam', activation='relu', max_iter=200)\n",
    "parameters = {'hidden_layer_sizes':[((50,)*5), ((50,)*6), ((50,)*7)],\n",
    "              'alpha': [0.001, 0.01, 0.1],\n",
    "              'batch_size': [50, 100, 150]}\n",
    "clf = GridSearchCV(mlp, parameters, scoring='neg_mean_squared_error', cv=2, n_jobs=-1, verbose=0)\n",
    "clf.fit(X_train_scaled, y_train)\n",
    "print(\"Segunda iteración\")\n",
    "mydict = {'params':clf.cv_results_['params'],\n",
    "          'rank_test_score':clf.cv_results_['rank_test_score'],\n",
    "          'mean_test_score':clf.cv_results_['mean_test_score']}\n",
    "mydata = pd.DataFrame.from_dict(mydict)\n",
    "print(mydata[mydata.rank_test_score == 1].to_numpy())"
   ]
  },
  {
   "cell_type": "code",
   "execution_count": 11,
   "id": "9b541b6f-4030-4d1e-a293-b84abd286ce6",
   "metadata": {},
   "outputs": [
    {
     "data": {
      "text/html": [
       "<div>\n",
       "<style scoped>\n",
       "    .dataframe tbody tr th:only-of-type {\n",
       "        vertical-align: middle;\n",
       "    }\n",
       "\n",
       "    .dataframe tbody tr th {\n",
       "        vertical-align: top;\n",
       "    }\n",
       "\n",
       "    .dataframe thead th {\n",
       "        text-align: right;\n",
       "    }\n",
       "</style>\n",
       "<table border=\"1\" class=\"dataframe\">\n",
       "  <thead>\n",
       "    <tr style=\"text-align: right;\">\n",
       "      <th></th>\n",
       "      <th>MSE</th>\n",
       "      <th>R2</th>\n",
       "    </tr>\n",
       "  </thead>\n",
       "  <tbody>\n",
       "    <tr>\n",
       "      <th>Train</th>\n",
       "      <td>452182.038767</td>\n",
       "      <td>0.661319</td>\n",
       "    </tr>\n",
       "    <tr>\n",
       "      <th>Test</th>\n",
       "      <td>153271.321075</td>\n",
       "      <td>0.712032</td>\n",
       "    </tr>\n",
       "  </tbody>\n",
       "</table>\n",
       "</div>"
      ],
      "text/plain": [
       "                 MSE        R2\n",
       "Train  452182.038767  0.661319\n",
       "Test   153271.321075  0.712032"
      ]
     },
     "metadata": {},
     "output_type": "display_data"
    },
    {
     "name": "stdout",
     "output_type": "stream",
     "text": [
      "20% Test, hiperparámetros por defecto\n"
     ]
    },
    {
     "data": {
      "text/html": [
       "<div>\n",
       "<style scoped>\n",
       "    .dataframe tbody tr th:only-of-type {\n",
       "        vertical-align: middle;\n",
       "    }\n",
       "\n",
       "    .dataframe tbody tr th {\n",
       "        vertical-align: top;\n",
       "    }\n",
       "\n",
       "    .dataframe thead th {\n",
       "        text-align: right;\n",
       "    }\n",
       "</style>\n",
       "<table border=\"1\" class=\"dataframe\">\n",
       "  <thead>\n",
       "    <tr style=\"text-align: right;\">\n",
       "      <th></th>\n",
       "      <th>MSE</th>\n",
       "      <th>R2</th>\n",
       "    </tr>\n",
       "  </thead>\n",
       "  <tbody>\n",
       "    <tr>\n",
       "      <th>Train</th>\n",
       "      <td>436488.293717</td>\n",
       "      <td>0.670909</td>\n",
       "    </tr>\n",
       "    <tr>\n",
       "      <th>Test</th>\n",
       "      <td>138492.684993</td>\n",
       "      <td>0.730556</td>\n",
       "    </tr>\n",
       "  </tbody>\n",
       "</table>\n",
       "</div>"
      ],
      "text/plain": [
       "                 MSE        R2\n",
       "Train  436488.293717  0.670909\n",
       "Test   138492.684993  0.730556"
      ]
     },
     "metadata": {},
     "output_type": "display_data"
    },
    {
     "name": "stdout",
     "output_type": "stream",
     "text": [
      "20% Test, hiperparámetros ajustados\n"
     ]
    }
   ],
   "source": [
    "clf = MLPRegressor(random_state = 0,\n",
    "                   solver='adam',\n",
    "                   activation='relu',\n",
    "                   max_iter=200,\n",
    "                   hidden_layer_sizes=((50,)*6),\n",
    "                   alpha=0.01,\n",
    "                   batch_size=100)\n",
    "clf.fit(X_train_scaled, y_train)\n",
    "\n",
    "y_train_predict = clf.predict(X_train_scaled)\n",
    "y_test_predict = clf.predict(X_test_scaled)\n",
    "\n",
    "mse_train = mean_squared_error(y_train, y_train_predict)\n",
    "mse_test = mean_squared_error(y_test, y_test_predict)\n",
    "r2_train = r2_score(y_train, y_train_predict)\n",
    "r2_test = r2_score(y_test, y_test_predict)\n",
    "res_ejercicio4 = pd.DataFrame([[mse_train, r2_train], [mse_test, r2_test]],\n",
    "                              index = [\"Train\", \"Test\"],\n",
    "                              columns = [\"MSE\", \"R2\"])\n",
    "display(res_ejercicio1)\n",
    "print(\"20% Test, hiperparámetros por defecto\")\n",
    "display(res_ejercicio4)\n",
    "print(\"20% Test, hiperparámetros ajustados\")"
   ]
  },
  {
   "cell_type": "code",
   "execution_count": null,
   "id": "d42d1efb-e138-43ca-967c-5e444c71423f",
   "metadata": {},
   "outputs": [],
   "source": []
  }
 ],
 "metadata": {
  "kernelspec": {
   "display_name": "Python 3 (ipykernel)",
   "language": "python",
   "name": "python3"
  },
  "language_info": {
   "codemirror_mode": {
    "name": "ipython",
    "version": 3
   },
   "file_extension": ".py",
   "mimetype": "text/x-python",
   "name": "python",
   "nbconvert_exporter": "python",
   "pygments_lexer": "ipython3",
   "version": "3.9.12"
  }
 },
 "nbformat": 4,
 "nbformat_minor": 5
}
