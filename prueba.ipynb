{
 "cells": [
  {
   "cell_type": "code",
   "execution_count": 3,
   "id": "210582b9-9290-42ec-8c04-0f98b2f192ae",
   "metadata": {},
   "outputs": [
    {
     "name": "stdout",
     "output_type": "stream",
     "text": [
      "pruebaaa\n"
     ]
    }
   ],
   "source": [
    "print(\"pruebaaa\")"
   ]
  },
  {
   "cell_type": "code",
   "execution_count": null,
   "id": "3db17a2b-22f1-4bc2-8eee-d36af9eade21",
   "metadata": {},
   "outputs": [],
   "source": []
  }
 ],
 "metadata": {
  "kernelspec": {
   "display_name": "Python 3 (ipykernel)",
   "language": "python",
   "name": "python3"
  },
  "language_info": {
   "codemirror_mode": {
    "name": "ipython",
    "version": 3
   },
   "file_extension": ".py",
   "mimetype": "text/x-python",
   "name": "python",
   "nbconvert_exporter": "python",
   "pygments_lexer": "ipython3",
   "version": "3.9.12"
  }
 },
 "nbformat": 4,
 "nbformat_minor": 5
}
