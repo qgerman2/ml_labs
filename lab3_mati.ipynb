{
 "cells": [
  {
   "cell_type": "code",
   "execution_count": 39,
   "id": "a4b86029-f257-430b-91d3-cf4c2f3165ef",
   "metadata": {},
   "outputs": [],
   "source": [
    "import pandas as pd\n",
    "import numpy as np\n",
    "from sklearn.model_selection import train_test_split \n",
    "\n",
    "df = pd.read_excel ('uw-vehicle-1.xlsx')\n",
    "X = np.transpose(np.transpose(df)[1:17])\n",
    "y = np.transpose(np.transpose(df)[17:18])\n"
   ]
  },
  {
   "cell_type": "code",
   "execution_count": 40,
   "id": "b61ee509-da61-47ce-bb4b-a730480ad0a5",
   "metadata": {},
   "outputs": [],
   "source": [
    "from sklearn.svm import SVC \n",
    "from sklearn.model_selection import train_test_split \n",
    "X_train, X_test, y_train, y_test = train_test_split(X, y, test_size=0.4, random_state=11)\n"
   ]
  },
  {
   "cell_type": "code",
   "execution_count": 41,
   "id": "182c8d45-a4b9-42de-9f2d-793db5206343",
   "metadata": {},
   "outputs": [
    {
     "name": "stdout",
     "output_type": "stream",
     "text": [
      "Clases real =         label\n",
      "13399    1.0\n",
      "11796    1.0\n",
      "12736    1.0\n",
      "13518    1.0\n",
      "16113    1.0\n",
      "...      ...\n",
      "1316     0.0\n",
      "3740     0.0\n",
      "11676    1.0\n",
      "353      0.0\n",
      "17345    1.0\n",
      "\n",
      "[7146 rows x 1 columns]\n",
      "Clases pred =  [1. 1. 1. ... 1. 1. 1.]\n"
     ]
    }
   ],
   "source": [
    "clf = SVC() \n",
    "clf.fit(X_train, np.ravel(y_train)) \n",
    "y_test_pred = clf.predict(X_test) \n",
    " \n",
    "print('Clases real = ', y_test) \n",
    "print('Clases pred = ', y_test_pred) "
   ]
  },
  {
   "cell_type": "code",
   "execution_count": 42,
   "id": "3dddb1e5-cab7-4be8-9423-f0cd1e125178",
   "metadata": {},
   "outputs": [
    {
     "name": "stdout",
     "output_type": "stream",
     "text": [
      "El accuracy de la fase de test es:  0.5737475510775258\n",
      "El accuracy de la fase de entrenamiento es:  0.5842119996267612\n"
     ]
    }
   ],
   "source": [
    "from sklearn.metrics import accuracy_score \n",
    " \n",
    "accuracy_test = accuracy_score(y_test, y_test_pred) \n",
    "print('El accuracy de la fase de test es: ', accuracy_test) \n",
    " \n",
    "y_pred_train = clf.predict(X_train) \n",
    "accuracy_train = accuracy_score(y_train, y_pred_train) \n",
    "print('El accuracy de la fase de entrenamiento es: ', accuracy_train) "
   ]
  },
  {
   "cell_type": "code",
   "execution_count": null,
   "id": "9ec654a6-12ba-450b-80f7-56f93da180d1",
   "metadata": {},
   "outputs": [],
   "source": []
  }
 ],
 "metadata": {
  "kernelspec": {
   "display_name": "Python 3 (ipykernel)",
   "language": "python",
   "name": "python3"
  },
  "language_info": {
   "codemirror_mode": {
    "name": "ipython",
    "version": 3
   },
   "file_extension": ".py",
   "mimetype": "text/x-python",
   "name": "python",
   "nbconvert_exporter": "python",
   "pygments_lexer": "ipython3",
   "version": "3.9.12"
  }
 },
 "nbformat": 4,
 "nbformat_minor": 5
}
