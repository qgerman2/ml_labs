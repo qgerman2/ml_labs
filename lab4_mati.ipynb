{
 "cells": [
  {
   "cell_type": "code",
   "execution_count": null,
   "id": "08da25a1-21fd-4285-a104-103e3fea1e91",
   "metadata": {},
   "outputs": [],
   "source": [
    "import pandas as pd \n",
    "import numpy as np\n",
    "\n",
    "from sklearn.neural_network import MLPRegressor\n",
    "from sklearn.model_selection import train_test_split\n",
    "from sklearn.metrics import accuracy_score\n",
    "from sklearn.metrics import mean_squared_error\n",
    "from sklearn.metrics import r2_score\n",
    "\n",
    "df = pd.read_excel ('gas-turbine.xlsx')\n",
    "display(df)\n",
    "X = np.array(df[['t_in_comp','t_housing_comp','t_housing2_turb','t_housing4_turb','t_out_turb','gas_fuel_flow','gas_fuel_pres','liq_fuel_flow','liq_fuel_pres']])\n",
    "y = np.array(df[['real_power','app_power','react_power']])\n",
    "display(X)\n",
    "display(y)"
   ]
  },
  {
   "cell_type": "code",
   "execution_count": null,
   "id": "800e018e-4f2b-4924-a58f-fa30411bf6ac",
   "metadata": {},
   "outputs": [],
   "source": [
    "X_train, X_test, y_train, y_test = train_test_split(X, y,test_size=0.2, random_state=0)\n",
    "\n",
    "clf = MLPRegressor(max_iter=1000)\n",
    "clf.fit(X_train, y_train)\n",
    "\n",
    "y_train_predict = clf.predict(X_train)\n",
    "y_test_predict = clf.predict(X_test)\n",
    "\n",
    "mse_train = mean_squared_error(y_train, y_train_predict)\n",
    "print('el error de entrenamiento es MSE = ', mse_train)\n",
    "\n",
    "mse_train_test = mean_squared_error(y_test, y_test_predict)\n",
    "print('el error de test es MSE = ', mse_train_test)\n",
    "\n",
    "r2train = r2_score(y_train, y_train_predict)\n",
    "r2test = r2_score(y_test, y_test_predict)\n",
    "print(\"R2 Training: \", r2train)\n",
    "print(\"R2 Test: \", r2test)"
   ]
  },
  {
   "cell_type": "code",
   "execution_count": null,
   "id": "47a8c5d5-be76-4843-aba8-27faae599e77",
   "metadata": {},
   "outputs": [],
   "source": [
    "resultado = []\n",
    "for i in range(20):\n",
    "    X_train, X_test, y_train, y_test = train_test_split(X, y,test_size=0.2, random_state=i)\n",
    "\n",
    "    clf = MLPRegressor(max_iter=1000)\n",
    "    clf.fit(X_train, y_train)\n",
    "\n",
    "    y_train_predict = clf.predict(X_train)\n",
    "    y_test_predict = clf.predict(X_test)\n",
    "    \n",
    "    mse_train = mean_squared_error(y_train, y_train_predict)\n",
    "    mse_train_test = mean_squared_error(y_test, y_test_predict)\n",
    "    resultado.append([i, mse_train, mse_train_test])\n",
    "resultado = np.array(resultado)"
   ]
  },
  {
   "cell_type": "code",
   "execution_count": null,
   "id": "2fe9405b-b61e-41b6-9774-9c450de7ebf3",
   "metadata": {},
   "outputs": [],
   "source": [
    "import matplotlib.pyplot as plt\n",
    "xd = np.arange(20)\n",
    "plt.plot(xd, resultado[:,1], color='blue')\n",
    "plt.plot(xd, resultado[:,2], color='red')\n",
    "plt.xlabel('Random state')\n",
    "plt.legend([\"MSE Training\", \"MSE Test\"])\n",
    "plt.show()"
   ]
  },
  {
   "cell_type": "code",
   "execution_count": 34,
   "id": "585f7650-bd24-49cc-9358-26c199b1606c",
   "metadata": {},
   "outputs": [
    {
     "data": {
      "text/plain": [
       "[0, 519328.8318742072, 222744.33666828726, []]"
      ]
     },
     "metadata": {},
     "output_type": "display_data"
    },
    {
     "data": {
      "text/plain": [
       "[1, 458228.7063134592, 164033.88381734194, [50]]"
      ]
     },
     "metadata": {},
     "output_type": "display_data"
    },
    {
     "data": {
      "text/plain": [
       "[2, 441355.3334828942, 137435.0534568207, [50, 50]]"
      ]
     },
     "metadata": {},
     "output_type": "display_data"
    },
    {
     "data": {
      "text/plain": [
       "[3, 440538.26824475155, 145125.39421046546, [50, 50, 50]]"
      ]
     },
     "metadata": {},
     "output_type": "display_data"
    },
    {
     "data": {
      "text/plain": [
       "[4, 448495.90437555447, 149502.908961571, [50, 50, 50, 50]]"
      ]
     },
     "metadata": {},
     "output_type": "display_data"
    },
    {
     "data": {
      "text/plain": [
       "[5, 440325.804503879, 141962.8566591828, [50, 50, 50, 50, 50]]"
      ]
     },
     "metadata": {},
     "output_type": "display_data"
    },
    {
     "data": {
      "text/plain": [
       "[6, 436759.28659903473, 136541.91709914964, [50, 50, 50, 50, 50, 50]]"
      ]
     },
     "metadata": {},
     "output_type": "display_data"
    },
    {
     "name": "stderr",
     "output_type": "stream",
     "text": [
      "C:\\Users\\matiu\\AppData\\Local\\Temp\\ipykernel_17868\\3637655576.py:18: VisibleDeprecationWarning: Creating an ndarray from ragged nested sequences (which is a list-or-tuple of lists-or-tuples-or ndarrays with different lengths or shapes) is deprecated. If you meant to do this, you must specify 'dtype=object' when creating the ndarray.\n",
      "  resultado = np.array(resultado)\n"
     ]
    }
   ],
   "source": [
    "#ejercicio 3\n",
    "X_train, X_test, y_train, y_test = train_test_split(X, y,test_size=0.2, random_state=0)\n",
    "resultado = []\n",
    "\n",
    "for i in range(7):\n",
    "    capas = [50]*i\n",
    "    clf = MLPRegressor(max_iter=10000, hidden_layer_sizes=capas)\n",
    "    clf.fit(X_train, y_train)\n",
    "\n",
    "    y_train_predict = clf.predict(X_train)\n",
    "    y_test_predict = clf.predict(X_test)\n",
    "\n",
    "    mse_train = mean_squared_error(y_train, y_train_predict)\n",
    "    mse_train_test = mean_squared_error(y_test, y_test_predict)\n",
    "    res = [i, mse_train, mse_train_test, capas]\n",
    "    resultado.append(res)\n",
    "    display(res)\n",
    "resultado = np.array(resultado)\n"
   ]
  },
  {
   "cell_type": "code",
   "execution_count": null,
   "id": "ebe359c9-7005-409f-a486-b4080403bacd",
   "metadata": {},
   "outputs": [],
   "source": []
  }
 ],
 "metadata": {
  "kernelspec": {
   "display_name": "Python 3 (ipykernel)",
   "language": "python",
   "name": "python3"
  },
  "language_info": {
   "codemirror_mode": {
    "name": "ipython",
    "version": 3
   },
   "file_extension": ".py",
   "mimetype": "text/x-python",
   "name": "python",
   "nbconvert_exporter": "python",
   "pygments_lexer": "ipython3",
   "version": "3.9.12"
  }
 },
 "nbformat": 4,
 "nbformat_minor": 5
}
