{
 "cells": [
  {
   "cell_type": "code",
   "execution_count": 49,
   "id": "08da25a1-21fd-4285-a104-103e3fea1e91",
   "metadata": {},
   "outputs": [
    {
     "data": {
      "text/html": [
       "<div>\n",
       "<style scoped>\n",
       "    .dataframe tbody tr th:only-of-type {\n",
       "        vertical-align: middle;\n",
       "    }\n",
       "\n",
       "    .dataframe tbody tr th {\n",
       "        vertical-align: top;\n",
       "    }\n",
       "\n",
       "    .dataframe thead th {\n",
       "        text-align: right;\n",
       "    }\n",
       "</style>\n",
       "<table border=\"1\" class=\"dataframe\">\n",
       "  <thead>\n",
       "    <tr style=\"text-align: right;\">\n",
       "      <th></th>\n",
       "      <th>Unnamed: 0</th>\n",
       "      <th>t_in_comp</th>\n",
       "      <th>t_housing_comp</th>\n",
       "      <th>t_housing2_turb</th>\n",
       "      <th>t_housing4_turb</th>\n",
       "      <th>t_housing6_turb</th>\n",
       "      <th>t_out_turb</th>\n",
       "      <th>gas_fuel_flow</th>\n",
       "      <th>gas_fuel_pres</th>\n",
       "      <th>liq_fuel_flow</th>\n",
       "      <th>liq_fuel_pres</th>\n",
       "      <th>real_power</th>\n",
       "      <th>app_power</th>\n",
       "      <th>react_power</th>\n",
       "    </tr>\n",
       "  </thead>\n",
       "  <tbody>\n",
       "    <tr>\n",
       "      <th>0</th>\n",
       "      <td>0</td>\n",
       "      <td>26.1</td>\n",
       "      <td>280.0</td>\n",
       "      <td>293</td>\n",
       "      <td>285</td>\n",
       "      <td>278</td>\n",
       "      <td>256.0</td>\n",
       "      <td>449</td>\n",
       "      <td>24.0</td>\n",
       "      <td>0.0</td>\n",
       "      <td>0.31</td>\n",
       "      <td>450.0</td>\n",
       "      <td>523</td>\n",
       "      <td>271.0</td>\n",
       "    </tr>\n",
       "    <tr>\n",
       "      <th>1</th>\n",
       "      <td>1</td>\n",
       "      <td>25.7</td>\n",
       "      <td>282.0</td>\n",
       "      <td>294</td>\n",
       "      <td>285</td>\n",
       "      <td>278</td>\n",
       "      <td>257.0</td>\n",
       "      <td>452</td>\n",
       "      <td>23.6</td>\n",
       "      <td>0.0</td>\n",
       "      <td>0.31</td>\n",
       "      <td>468.0</td>\n",
       "      <td>565</td>\n",
       "      <td>291.0</td>\n",
       "    </tr>\n",
       "    <tr>\n",
       "      <th>2</th>\n",
       "      <td>2</td>\n",
       "      <td>25.5</td>\n",
       "      <td>279.0</td>\n",
       "      <td>295</td>\n",
       "      <td>285</td>\n",
       "      <td>280</td>\n",
       "      <td>256.0</td>\n",
       "      <td>456</td>\n",
       "      <td>24.0</td>\n",
       "      <td>0.0</td>\n",
       "      <td>0.32</td>\n",
       "      <td>472.0</td>\n",
       "      <td>555</td>\n",
       "      <td>295.0</td>\n",
       "    </tr>\n",
       "    <tr>\n",
       "      <th>3</th>\n",
       "      <td>3</td>\n",
       "      <td>25.4</td>\n",
       "      <td>277.0</td>\n",
       "      <td>292</td>\n",
       "      <td>284</td>\n",
       "      <td>277</td>\n",
       "      <td>255.0</td>\n",
       "      <td>454</td>\n",
       "      <td>24.3</td>\n",
       "      <td>0.0</td>\n",
       "      <td>0.32</td>\n",
       "      <td>453.0</td>\n",
       "      <td>539</td>\n",
       "      <td>277.0</td>\n",
       "    </tr>\n",
       "    <tr>\n",
       "      <th>4</th>\n",
       "      <td>4</td>\n",
       "      <td>25.4</td>\n",
       "      <td>277.0</td>\n",
       "      <td>292</td>\n",
       "      <td>284</td>\n",
       "      <td>277</td>\n",
       "      <td>255.0</td>\n",
       "      <td>454</td>\n",
       "      <td>24.3</td>\n",
       "      <td>0.0</td>\n",
       "      <td>0.32</td>\n",
       "      <td>503.0</td>\n",
       "      <td>539</td>\n",
       "      <td>277.0</td>\n",
       "    </tr>\n",
       "    <tr>\n",
       "      <th>...</th>\n",
       "      <td>...</td>\n",
       "      <td>...</td>\n",
       "      <td>...</td>\n",
       "      <td>...</td>\n",
       "      <td>...</td>\n",
       "      <td>...</td>\n",
       "      <td>...</td>\n",
       "      <td>...</td>\n",
       "      <td>...</td>\n",
       "      <td>...</td>\n",
       "      <td>...</td>\n",
       "      <td>...</td>\n",
       "      <td>...</td>\n",
       "      <td>...</td>\n",
       "    </tr>\n",
       "    <tr>\n",
       "      <th>2941</th>\n",
       "      <td>2941</td>\n",
       "      <td>1250.0</td>\n",
       "      <td>545.0</td>\n",
       "      <td>554</td>\n",
       "      <td>563</td>\n",
       "      <td>530</td>\n",
       "      <td>530.0</td>\n",
       "      <td>997</td>\n",
       "      <td>24.3</td>\n",
       "      <td>0.0</td>\n",
       "      <td>0.12</td>\n",
       "      <td>3629.0</td>\n",
       "      <td>3835</td>\n",
       "      <td>1245.0</td>\n",
       "    </tr>\n",
       "    <tr>\n",
       "      <th>2942</th>\n",
       "      <td>2942</td>\n",
       "      <td>1250.0</td>\n",
       "      <td>520.0</td>\n",
       "      <td>534</td>\n",
       "      <td>536</td>\n",
       "      <td>503</td>\n",
       "      <td>503.0</td>\n",
       "      <td>953</td>\n",
       "      <td>24.1</td>\n",
       "      <td>0.0</td>\n",
       "      <td>0.12</td>\n",
       "      <td>3400.0</td>\n",
       "      <td>3589</td>\n",
       "      <td>1162.0</td>\n",
       "    </tr>\n",
       "    <tr>\n",
       "      <th>2943</th>\n",
       "      <td>2943</td>\n",
       "      <td>1250.0</td>\n",
       "      <td>582.0</td>\n",
       "      <td>541</td>\n",
       "      <td>553</td>\n",
       "      <td>516</td>\n",
       "      <td>516.0</td>\n",
       "      <td>979</td>\n",
       "      <td>24.2</td>\n",
       "      <td>0.0</td>\n",
       "      <td>0.13</td>\n",
       "      <td>3533.0</td>\n",
       "      <td>3758</td>\n",
       "      <td>1238.0</td>\n",
       "    </tr>\n",
       "    <tr>\n",
       "      <th>2944</th>\n",
       "      <td>2944</td>\n",
       "      <td>1250.0</td>\n",
       "      <td>385.0</td>\n",
       "      <td>392</td>\n",
       "      <td>384</td>\n",
       "      <td>371</td>\n",
       "      <td>371.0</td>\n",
       "      <td>668</td>\n",
       "      <td>24.5</td>\n",
       "      <td>0.0</td>\n",
       "      <td>0.11</td>\n",
       "      <td>1821.0</td>\n",
       "      <td>1977</td>\n",
       "      <td>784.0</td>\n",
       "    </tr>\n",
       "    <tr>\n",
       "      <th>2945</th>\n",
       "      <td>2945</td>\n",
       "      <td>1250.0</td>\n",
       "      <td>382.0</td>\n",
       "      <td>388</td>\n",
       "      <td>381</td>\n",
       "      <td>366</td>\n",
       "      <td>366.0</td>\n",
       "      <td>657</td>\n",
       "      <td>24.2</td>\n",
       "      <td>0.0</td>\n",
       "      <td>0.13</td>\n",
       "      <td>1765.0</td>\n",
       "      <td>1950</td>\n",
       "      <td>850.0</td>\n",
       "    </tr>\n",
       "  </tbody>\n",
       "</table>\n",
       "<p>2946 rows × 14 columns</p>\n",
       "</div>"
      ],
      "text/plain": [
       "      Unnamed: 0  t_in_comp  t_housing_comp  t_housing2_turb  t_housing4_turb  \\\n",
       "0              0       26.1           280.0              293              285   \n",
       "1              1       25.7           282.0              294              285   \n",
       "2              2       25.5           279.0              295              285   \n",
       "3              3       25.4           277.0              292              284   \n",
       "4              4       25.4           277.0              292              284   \n",
       "...          ...        ...             ...              ...              ...   \n",
       "2941        2941     1250.0           545.0              554              563   \n",
       "2942        2942     1250.0           520.0              534              536   \n",
       "2943        2943     1250.0           582.0              541              553   \n",
       "2944        2944     1250.0           385.0              392              384   \n",
       "2945        2945     1250.0           382.0              388              381   \n",
       "\n",
       "      t_housing6_turb  t_out_turb  gas_fuel_flow  gas_fuel_pres  \\\n",
       "0                 278       256.0            449           24.0   \n",
       "1                 278       257.0            452           23.6   \n",
       "2                 280       256.0            456           24.0   \n",
       "3                 277       255.0            454           24.3   \n",
       "4                 277       255.0            454           24.3   \n",
       "...               ...         ...            ...            ...   \n",
       "2941              530       530.0            997           24.3   \n",
       "2942              503       503.0            953           24.1   \n",
       "2943              516       516.0            979           24.2   \n",
       "2944              371       371.0            668           24.5   \n",
       "2945              366       366.0            657           24.2   \n",
       "\n",
       "      liq_fuel_flow  liq_fuel_pres  real_power  app_power  react_power  \n",
       "0               0.0           0.31       450.0        523        271.0  \n",
       "1               0.0           0.31       468.0        565        291.0  \n",
       "2               0.0           0.32       472.0        555        295.0  \n",
       "3               0.0           0.32       453.0        539        277.0  \n",
       "4               0.0           0.32       503.0        539        277.0  \n",
       "...             ...            ...         ...        ...          ...  \n",
       "2941            0.0           0.12      3629.0       3835       1245.0  \n",
       "2942            0.0           0.12      3400.0       3589       1162.0  \n",
       "2943            0.0           0.13      3533.0       3758       1238.0  \n",
       "2944            0.0           0.11      1821.0       1977        784.0  \n",
       "2945            0.0           0.13      1765.0       1950        850.0  \n",
       "\n",
       "[2946 rows x 14 columns]"
      ]
     },
     "metadata": {},
     "output_type": "display_data"
    },
    {
     "data": {
      "text/plain": [
       "array([[2.61e+01, 2.80e+02, 2.93e+02, ..., 2.40e+01, 0.00e+00, 3.10e-01],\n",
       "       [2.57e+01, 2.82e+02, 2.94e+02, ..., 2.36e+01, 0.00e+00, 3.10e-01],\n",
       "       [2.55e+01, 2.79e+02, 2.95e+02, ..., 2.40e+01, 0.00e+00, 3.20e-01],\n",
       "       ...,\n",
       "       [1.25e+03, 5.82e+02, 5.41e+02, ..., 2.42e+01, 0.00e+00, 1.30e-01],\n",
       "       [1.25e+03, 3.85e+02, 3.92e+02, ..., 2.45e+01, 0.00e+00, 1.10e-01],\n",
       "       [1.25e+03, 3.82e+02, 3.88e+02, ..., 2.42e+01, 0.00e+00, 1.30e-01]])"
      ]
     },
     "metadata": {},
     "output_type": "display_data"
    },
    {
     "data": {
      "text/plain": [
       "array([[ 450.,  523.,  271.],\n",
       "       [ 468.,  565.,  291.],\n",
       "       [ 472.,  555.,  295.],\n",
       "       ...,\n",
       "       [3533., 3758., 1238.],\n",
       "       [1821., 1977.,  784.],\n",
       "       [1765., 1950.,  850.]])"
      ]
     },
     "metadata": {},
     "output_type": "display_data"
    }
   ],
   "source": [
    "import pandas as pd \n",
    "import numpy as np\n",
    "\n",
    "from sklearn.neural_network import MLPRegressor\n",
    "from sklearn.model_selection import train_test_split\n",
    "from sklearn.metrics import accuracy_score\n",
    "from sklearn.metrics import mean_squared_error\n",
    "from sklearn.metrics import r2_score\n",
    "\n",
    "df = pd.read_excel ('gas-turbine.xlsx')\n",
    "display(df)\n",
    "X = np.array(df[['t_in_comp','t_housing_comp','t_housing2_turb','t_housing4_turb','t_out_turb','gas_fuel_flow','gas_fuel_pres','liq_fuel_flow','liq_fuel_pres']])\n",
    "y = np.array(df[['real_power','app_power','react_power']])\n",
    "display(X)\n",
    "display(y)"
   ]
  },
  {
   "cell_type": "code",
   "execution_count": 50,
   "id": "800e018e-4f2b-4924-a58f-fa30411bf6ac",
   "metadata": {},
   "outputs": [
    {
     "name": "stdout",
     "output_type": "stream",
     "text": [
      "el error de entrenamiento es MSE =  457427.6956670659\n",
      "el error de test es MSE =  162594.41809880614\n",
      "R2 Training:  0.6542446256376235\n",
      "R2 Test:  0.7002677319895834\n"
     ]
    }
   ],
   "source": [
    "X_train, X_test, y_train, y_test = train_test_split(X, y,test_size=0.2, random_state=0)\n",
    "\n",
    "clf = MLPRegressor(max_iter=1000)\n",
    "clf.fit(X_train, y_train)\n",
    "\n",
    "y_train_predict = clf.predict(X_train)\n",
    "y_test_predict = clf.predict(X_test)\n",
    "\n",
    "mse_train = mean_squared_error(y_train, y_train_predict)\n",
    "print('el error de entrenamiento es MSE = ', mse_train)\n",
    "\n",
    "mse_train_test = mean_squared_error(y_test, y_test_predict)\n",
    "print('el error de test es MSE = ', mse_train_test)\n",
    "\n",
    "r2train = r2_score(y_train, y_train_predict)\n",
    "r2test = r2_score(y_test, y_test_predict)\n",
    "print(\"R2 Training: \", r2train)\n",
    "print(\"R2 Test: \", r2test)"
   ]
  },
  {
   "cell_type": "code",
   "execution_count": 51,
   "id": "47a8c5d5-be76-4843-aba8-27faae599e77",
   "metadata": {},
   "outputs": [],
   "source": [
    "resultado = []\n",
    "for i in range(20):\n",
    "    X_train, X_test, y_train, y_test = train_test_split(X, y,test_size=0.2, random_state=i)\n",
    "\n",
    "    clf = MLPRegressor(max_iter=1000)\n",
    "    clf.fit(X_train, y_train)\n",
    "\n",
    "    y_train_predict = clf.predict(X_train)\n",
    "    y_test_predict = clf.predict(X_test)\n",
    "    \n",
    "    mse_train = mean_squared_error(y_train, y_train_predict)\n",
    "    mse_train_test = mean_squared_error(y_test, y_test_predict)\n",
    "    resultado.append([i, mse_train, mse_train_test])\n",
    "resultado = np.array(resultado)"
   ]
  },
  {
   "cell_type": "code",
   "execution_count": 52,
   "id": "2fe9405b-b61e-41b6-9774-9c450de7ebf3",
   "metadata": {},
   "outputs": [
    {
     "data": {
      "image/png": "[encoded data removed]",
      "text/plain": [
       "<Figure size 432x288 with 1 Axes>"
      ]
     },
     "metadata": {
      "needs_background": "light"
     },
     "output_type": "display_data"
    }
   ],
   "source": [
    "import matplotlib.pyplot as plt\n",
    "xd = np.arange(20)\n",
    "plt.plot(xd, resultado[:,1], color='blue')\n",
    "plt.plot(xd, resultado[:,2], color='red')\n",
    "plt.xlabel('Random state')\n",
    "plt.legend([\"MSE Training\", \"MSE Test\"])\n",
    "plt.show()"
   ]
  },
  {
   "cell_type": "code",
   "execution_count": 53,
   "id": "585f7650-bd24-49cc-9358-26c199b1606c",
   "metadata": {},
   "outputs": [
    {
     "data": {
      "text/plain": [
       "[0, 521406.58455000585, 224393.74840566798]"
      ]
     },
     "metadata": {},
     "output_type": "display_data"
    },
    {
     "data": {
      "text/plain": [
       "[1, 453322.34653510625, 155674.65062904966]"
      ]
     },
     "metadata": {},
     "output_type": "display_data"
    },
    {
     "data": {
      "text/plain": [
       "[2, 455281.5383778303, 157698.99470742987]"
      ]
     },
     "metadata": {},
     "output_type": "display_data"
    },
    {
     "data": {
      "text/plain": [
       "[3, 436043.41247726534, 137411.6920601264]"
      ]
     },
     "metadata": {},
     "output_type": "display_data"
    },
    {
     "data": {
      "text/plain": [
       "[4, 437681.80881456385, 138893.6057440079]"
      ]
     },
     "metadata": {},
     "output_type": "display_data"
    },
    {
     "data": {
      "text/plain": [
       "[5, 440965.702721419, 141081.89267289205]"
      ]
     },
     "metadata": {},
     "output_type": "display_data"
    },
    {
     "data": {
      "text/plain": [
       "[6, 437983.01496264036, 138424.06912762384]"
      ]
     },
     "metadata": {},
     "output_type": "display_data"
    }
   ],
   "source": [
    "#ejercicio 3\n",
    "X_train, X_test, y_train, y_test = train_test_split(X, y,test_size=0.2, random_state=0)\n",
    "resultado = []\n",
    "\n",
    "for i in range(7):\n",
    "    capas = [50]*i\n",
    "    clf = MLPRegressor(max_iter=10000, hidden_layer_sizes=capas)\n",
    "    clf.fit(X_train, y_train)\n",
    "\n",
    "    y_train_predict = clf.predict(X_train)\n",
    "    y_test_predict = clf.predict(X_test)\n",
    "\n",
    "    mse_train = mean_squared_error(y_train, y_train_predict)\n",
    "    mse_train_test = mean_squared_error(y_test, y_test_predict)\n",
    "    res = [i, mse_train, mse_train_test]\n",
    "    resultado.append(res)\n",
    "    display(res)\n",
    "resultado = np.array(resultado)\n"
   ]
  },
  {
   "cell_type": "code",
   "execution_count": 54,
   "id": "ebe359c9-7005-409f-a486-b4080403bacd",
   "metadata": {},
   "outputs": [
    {
     "data": {
      "image/png": "[encoded data removed]",
      "text/plain": [
       "<Figure size 432x288 with 1 Axes>"
      ]
     },
     "metadata": {
      "needs_background": "light"
     },
     "output_type": "display_data"
    }
   ],
   "source": [
    "import matplotlib.pyplot as plt\n",
    "xd = np.arange(7)\n",
    "plt.plot(xd, resultado[:,1], color='blue')\n",
    "plt.plot(xd, resultado[:,2], color='red')\n",
    "plt.xlabel('n° capas ocultas')\n",
    "plt.legend([\"MSE Training\", \"MSE Test\"])\n",
    "plt.show()"
   ]
  },
  {
   "cell_type": "code",
   "execution_count": null,
   "id": "5af218fb-d33e-4dce-9d9e-1281b5cb9310",
   "metadata": {},
   "outputs": [],
   "source": [
    "#ejercicio 4\n",
    "from sklearn.preprocessing import MaxAbsScaler\n",
    "from sklearn.model_selection import GridSearchCV\n",
    "\n",
    "scaler = MaxAbsScaler()\n",
    "scaler.fit(X_train)\n",
    "X_train_scaled = scaler.transform(X_train)\n",
    "X_test_scaled = scaler.transform(X_test)\n",
    "\n",
    "parameters = {'max_iter':[200, 10000], 'hidden_layer_sizes':[(), (9, 3)], 'activation':('identity', 'tanh'), 'solver':('adam'),'batch_size': 'alpha':[0.01, 1.],random_state=0}\n",
    "clf = MLPClassifier(random_state=37)\n",
    "gridcv = GridSearchCV(clf, parameters, scoring='accuracy', cv=5)\n",
    "gridcv.fit(X_train, y_train)\n",
    "\n",
    "y_train_predict = clf.predict(X_train_scaled)\n",
    "y_test_predict = clf.predict(X_test_scaled)"
   ]
  }
 ],
 "metadata": {
  "kernelspec": {
   "display_name": "Python 3 (ipykernel)",
   "language": "python",
   "name": "python3"
  },
  "language_info": {
   "codemirror_mode": {
    "name": "ipython",
    "version": 3
   },
   "file_extension": ".py",
   "mimetype": "text/x-python",
   "name": "python",
   "nbconvert_exporter": "python",
   "pygments_lexer": "ipython3",
   "version": "3.9.12"
  }
 },
 "nbformat": 4,
 "nbformat_minor": 5
}
