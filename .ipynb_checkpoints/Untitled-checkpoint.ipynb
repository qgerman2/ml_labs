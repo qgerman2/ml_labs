{
 "cells": [
  {
   "cell_type": "code",
   "execution_count": 23,
   "id": "f4464e9c",
   "metadata": {},
   "outputs": [
    {
     "data": {
      "text/html": [
       "<div>\n",
       "<style scoped>\n",
       "    .dataframe tbody tr th:only-of-type {\n",
       "        vertical-align: middle;\n",
       "    }\n",
       "\n",
       "    .dataframe tbody tr th {\n",
       "        vertical-align: top;\n",
       "    }\n",
       "\n",
       "    .dataframe thead th {\n",
       "        text-align: right;\n",
       "    }\n",
       "</style>\n",
       "<table border=\"1\" class=\"dataframe\">\n",
       "  <thead>\n",
       "    <tr style=\"text-align: right;\">\n",
       "      <th></th>\n",
       "      <th>rps</th>\n",
       "      <th>max</th>\n",
       "      <th>rms</th>\n",
       "      <th>kurt</th>\n",
       "      <th>label</th>\n",
       "    </tr>\n",
       "  </thead>\n",
       "  <tbody>\n",
       "    <tr>\n",
       "      <th>0</th>\n",
       "      <td>15.024038</td>\n",
       "      <td>0.311521</td>\n",
       "      <td>0.029794</td>\n",
       "      <td>7.642549</td>\n",
       "      <td>1</td>\n",
       "    </tr>\n",
       "    <tr>\n",
       "      <th>1</th>\n",
       "      <td>15.024038</td>\n",
       "      <td>0.216155</td>\n",
       "      <td>0.022242</td>\n",
       "      <td>6.541628</td>\n",
       "      <td>1</td>\n",
       "    </tr>\n",
       "    <tr>\n",
       "      <th>2</th>\n",
       "      <td>15.024038</td>\n",
       "      <td>0.255288</td>\n",
       "      <td>0.028959</td>\n",
       "      <td>9.691690</td>\n",
       "      <td>1</td>\n",
       "    </tr>\n",
       "    <tr>\n",
       "      <th>3</th>\n",
       "      <td>15.988251</td>\n",
       "      <td>0.323688</td>\n",
       "      <td>0.030494</td>\n",
       "      <td>8.147744</td>\n",
       "      <td>1</td>\n",
       "    </tr>\n",
       "    <tr>\n",
       "      <th>4</th>\n",
       "      <td>16.276042</td>\n",
       "      <td>0.210893</td>\n",
       "      <td>0.024360</td>\n",
       "      <td>6.408226</td>\n",
       "      <td>1</td>\n",
       "    </tr>\n",
       "    <tr>\n",
       "      <th>...</th>\n",
       "      <td>...</td>\n",
       "      <td>...</td>\n",
       "      <td>...</td>\n",
       "      <td>...</td>\n",
       "      <td>...</td>\n",
       "    </tr>\n",
       "    <tr>\n",
       "      <th>1795</th>\n",
       "      <td>15.024038</td>\n",
       "      <td>0.032001</td>\n",
       "      <td>0.008162</td>\n",
       "      <td>0.545736</td>\n",
       "      <td>2</td>\n",
       "    </tr>\n",
       "    <tr>\n",
       "      <th>1796</th>\n",
       "      <td>15.024038</td>\n",
       "      <td>0.030685</td>\n",
       "      <td>0.007978</td>\n",
       "      <td>0.637705</td>\n",
       "      <td>2</td>\n",
       "    </tr>\n",
       "    <tr>\n",
       "      <th>1797</th>\n",
       "      <td>15.024038</td>\n",
       "      <td>0.034960</td>\n",
       "      <td>0.008167</td>\n",
       "      <td>0.576496</td>\n",
       "      <td>2</td>\n",
       "    </tr>\n",
       "    <tr>\n",
       "      <th>1798</th>\n",
       "      <td>14.551837</td>\n",
       "      <td>0.031014</td>\n",
       "      <td>0.008032</td>\n",
       "      <td>0.468465</td>\n",
       "      <td>2</td>\n",
       "    </tr>\n",
       "    <tr>\n",
       "      <th>1799</th>\n",
       "      <td>13.950893</td>\n",
       "      <td>0.038906</td>\n",
       "      <td>0.007807</td>\n",
       "      <td>0.701163</td>\n",
       "      <td>2</td>\n",
       "    </tr>\n",
       "  </tbody>\n",
       "</table>\n",
       "<p>1800 rows × 5 columns</p>\n",
       "</div>"
      ],
      "text/plain": [
       "            rps       max       rms      kurt  label\n",
       "0     15.024038  0.311521  0.029794  7.642549      1\n",
       "1     15.024038  0.216155  0.022242  6.541628      1\n",
       "2     15.024038  0.255288  0.028959  9.691690      1\n",
       "3     15.988251  0.323688  0.030494  8.147744      1\n",
       "4     16.276042  0.210893  0.024360  6.408226      1\n",
       "...         ...       ...       ...       ...    ...\n",
       "1795  15.024038  0.032001  0.008162  0.545736      2\n",
       "1796  15.024038  0.030685  0.007978  0.637705      2\n",
       "1797  15.024038  0.034960  0.008167  0.576496      2\n",
       "1798  14.551837  0.031014  0.008032  0.468465      2\n",
       "1799  13.950893  0.038906  0.007807  0.701163      2\n",
       "\n",
       "[1800 rows x 5 columns]"
      ]
     },
     "metadata": {},
     "output_type": "display_data"
    },
    {
     "data": {
      "text/plain": [
       "array([[1.50240385e+01, 3.11520735e-01, 2.97939555e-02, 7.64254855e+00],\n",
       "       [1.50240385e+01, 2.16155053e-01, 2.22417637e-02, 6.54162790e+00],\n",
       "       [1.50240385e+01, 2.55287866e-01, 2.89586583e-02, 9.69169014e+00],\n",
       "       ...,\n",
       "       [1.50240385e+01, 3.49602789e-02, 8.16676767e-03, 5.76496280e-01],\n",
       "       [1.45518373e+01, 3.10141135e-02, 8.03191236e-03, 4.68464805e-01],\n",
       "       [1.39508929e+01, 3.89064443e-02, 7.80698809e-03, 7.01162602e-01]])"
      ]
     },
     "metadata": {},
     "output_type": "display_data"
    },
    {
     "data": {
      "text/plain": [
       "array([1., 1., 1., ..., 2., 2., 2.])"
      ]
     },
     "metadata": {},
     "output_type": "display_data"
    }
   ],
   "source": [
    "import pandas as pd\n",
    "df = pd.read_excel ('data-bearing-simple.xlsx', index_col =0)\n",
    "display ( df ) # visualiza dataframe\n",
    "X = df.values [: , 0:4] # valores a b segun corresponda\n",
    "y = df.values [: , 4] # valor c segun corresponda\n",
    "\n",
    "display(X)\n",
    "display(y)"
   ]
  },
  {
   "cell_type": "code",
   "execution_count": 24,
   "id": "b6141155",
   "metadata": {},
   "outputs": [],
   "source": [
    "from sklearn.model_selection import train_test_split\n",
    "from sklearn.linear_model import LogisticRegression\n",
    "from sklearn.metrics import accuracy_score\n",
    "X_train, X_test, y_train, y_test = train_test_split(X, y, test_size=0.2, random_state=17)"
   ]
  },
  {
   "cell_type": "code",
   "execution_count": 25,
   "id": "bb990e95-4c01-4e7b-b15a-a4af3a2d6692",
   "metadata": {},
   "outputs": [
    {
     "name": "stdout",
     "output_type": "stream",
     "text": [
      "la exactitud de entrenamiento es =  0.7763888888888889\n",
      "la exactitud de test es =  0.7194444444444444\n"
     ]
    }
   ],
   "source": [
    "#entrenamiento del modelo 2\n",
    "logregre = LogisticRegression()\n",
    "logregre.fit(X_train, y_train)\n",
    "y_train_predict = logregre.predict(X_train)\n",
    "print('la exactitud de entrenamiento es = ', accuracy_score(y_train, y_train_predict))\n",
    "\n",
    "#test del modelo\n",
    "y_test_predict = logregre.predict(X_test)\n",
    "print('la exactitud de test es = ', accuracy_score(y_test, y_test_predict))"
   ]
  },
  {
   "cell_type": "code",
   "execution_count": 26,
   "id": "4ab1df1f-de01-4080-acf3-1c62c9f088fa",
   "metadata": {},
   "outputs": [
    {
     "name": "stdout",
     "output_type": "stream",
     "text": [
      "lbfgs 0.01 0.6055555555555555\n",
      "lbfgs 1 0.7416666666666667\n",
      "lbfgs 100 0.925\n",
      "sag 0.01 0.6055555555555555\n",
      "sag 1 0.7444444444444445\n",
      "sag 100 0.9\n",
      "newton-cg 0.01 0.6055555555555555\n",
      "newton-cg 1 0.7416666666666667\n",
      "newton-cg 100 0.925\n",
      "la exactitud de entrenamiento es =  0.9291666666666667\n",
      "la exactitud de test es =  0.9333333333333333\n"
     ]
    }
   ],
   "source": [
    "## EJERCICIO 3\n",
    "\n",
    "X_train_2, X_val, y_train_2, y_val = train_test_split(X_train, y_train, test_size=0.25, random_state=17)\n",
    "solvers = ['lbfgs', 'sag', 'newton-cg']\n",
    "Cs = [0.01, 1, 100]\n",
    "\n",
    "for s in range(3):\n",
    "    for c in range(3):\n",
    "        logregre_2 = LogisticRegression(max_iter = 10000, solver=solvers[s], C=Cs[c])\n",
    "        logregre_2.fit(X_train_2, y_train_2)\n",
    "        resultado = accuracy_score(logregre_2.predict(X_val), y_val)\n",
    "        print(solvers[s], Cs[c], resultado)\n",
    "        \n",
    "        \n",
    "#entrenamiento del modelo 3\n",
    "logregre = LogisticRegression(max_iter = 10000, solver='lbfgs', C=100)\n",
    "logregre.fit(X_train, y_train)\n",
    "y_train_predict = logregre.predict(X_train)\n",
    "print('la exactitud de entrenamiento es = ', accuracy_score(y_train, y_train_predict))\n",
    "\n",
    "#test del modelo\n",
    "y_test_predict = logregre.predict(X_test)\n",
    "print('la exactitud de test es = ', accuracy_score(y_test, y_test_predict))"
   ]
  },
  {
   "cell_type": "code",
   "execution_count": 27,
   "id": "3591242a-0a3c-4f32-8df4-313f45f3abf4",
   "metadata": {},
   "outputs": [
    {
     "data": {
      "text/plain": [
       "array([[1.28723564e-25, 9.99999453e-01, 5.46756097e-07],\n",
       "       [1.69708021e-09, 9.43848701e-01, 5.61512972e-02],\n",
       "       [1.33682671e-01, 2.22558828e-02, 8.44061446e-01],\n",
       "       ...,\n",
       "       [8.53416980e-01, 2.32952958e-05, 1.46559725e-01],\n",
       "       [8.52967573e-02, 2.16931722e-04, 9.14486311e-01],\n",
       "       [1.50936661e-01, 2.86907992e-03, 8.46194259e-01]])"
      ]
     },
     "execution_count": 27,
     "metadata": {},
     "output_type": "execute_result"
    }
   ],
   "source": [
    "## EJERCICIO 4\n",
    "logregre.predict_proba(X_test)"
   ]
  },
  {
   "cell_type": "code",
   "execution_count": 28,
   "id": "c2df49fd-81cc-4fb6-bbe1-35894bb7334d",
   "metadata": {},
   "outputs": [
    {
     "data": {
      "text/plain": [
       "array([1., 1., 2., 2., 0., 0., 0., 2., 2., 2., 2., 0., 2., 2., 1., 1., 0.,\n",
       "       2., 2., 0., 1., 1., 1., 2., 1., 2., 0., 0., 1., 2., 2., 1., 1., 2.,\n",
       "       1., 0., 1., 2., 2., 0., 0., 2., 2., 0., 0., 0., 2., 0., 2., 2., 0.,\n",
       "       1., 0., 0., 1., 2., 1., 0., 0., 0., 0., 1., 0., 1., 0., 2., 1., 1.,\n",
       "       2., 2., 2., 2., 1., 0., 1., 1., 0., 0., 1., 1., 0., 1., 0., 2., 2.,\n",
       "       1., 0., 2., 2., 0., 1., 2., 1., 0., 2., 0., 1., 2., 1., 2., 2., 0.,\n",
       "       1., 2., 1., 0., 0., 1., 1., 1., 2., 0., 2., 2., 2., 2., 0., 1., 1.,\n",
       "       0., 1., 1., 2., 2., 1., 2., 0., 0., 0., 1., 1., 1., 0., 1., 0., 2.,\n",
       "       1., 2., 2., 1., 0., 2., 1., 0., 1., 2., 0., 0., 0., 2., 1., 0., 1.,\n",
       "       0., 0., 1., 0., 1., 2., 0., 1., 1., 1., 2., 0., 1., 2., 1., 0., 2.,\n",
       "       1., 0., 1., 2., 2., 2., 1., 0., 1., 1., 0., 2., 0., 0., 2., 1., 1.,\n",
       "       1., 1., 0., 2., 0., 0., 0., 2., 0., 1., 1., 1., 2., 2., 0., 0., 1.,\n",
       "       1., 1., 1., 0., 0., 1., 0., 2., 2., 0., 0., 0., 0., 2., 0., 2., 1.,\n",
       "       0., 2., 1., 2., 2., 1., 1., 2., 0., 1., 2., 0., 1., 0., 0., 0., 2.,\n",
       "       2., 0., 2., 2., 0., 2., 0., 2., 1., 0., 2., 0., 1., 1., 2., 1., 0.,\n",
       "       0., 2., 1., 0., 0., 2., 0., 0., 2., 1., 2., 2., 1., 0., 0., 0., 0.,\n",
       "       2., 0., 1., 0., 2., 0., 0., 0., 1., 2., 2., 0., 1., 0., 2., 2., 2.,\n",
       "       1., 1., 2., 2., 0., 0., 2., 1., 1., 0., 0., 2., 2., 0., 2., 2., 2.,\n",
       "       0., 1., 0., 1., 1., 0., 1., 1., 2., 2., 2., 2., 2., 2., 1., 1., 2.,\n",
       "       0., 0., 0., 2., 0., 0., 2., 0., 0., 1., 0., 0., 0., 0., 0., 1., 2.,\n",
       "       0., 1., 2., 2., 2., 1., 2., 1., 1., 2., 1., 0., 0., 2., 1., 1., 0.,\n",
       "       0., 2., 2.])"
      ]
     },
     "execution_count": 28,
     "metadata": {},
     "output_type": "execute_result"
    }
   ],
   "source": [
    "logregre.predict(X_test)"
   ]
  },
  {
   "cell_type": "code",
   "execution_count": 32,
   "id": "1012635b-a1ee-4d55-8060-2d71102b9086",
   "metadata": {},
   "outputs": [
    {
     "data": {
      "text/html": [
       "<div>\n",
       "<style scoped>\n",
       "    .dataframe tbody tr th:only-of-type {\n",
       "        vertical-align: middle;\n",
       "    }\n",
       "\n",
       "    .dataframe tbody tr th {\n",
       "        vertical-align: top;\n",
       "    }\n",
       "\n",
       "    .dataframe thead th {\n",
       "        text-align: right;\n",
       "    }\n",
       "</style>\n",
       "<table border=\"1\" class=\"dataframe\">\n",
       "  <thead>\n",
       "    <tr style=\"text-align: right;\">\n",
       "      <th></th>\n",
       "      <th>max</th>\n",
       "      <th>rms</th>\n",
       "      <th>kurt</th>\n",
       "      <th>label</th>\n",
       "    </tr>\n",
       "  </thead>\n",
       "  <tbody>\n",
       "    <tr>\n",
       "      <th>0</th>\n",
       "      <td>0.311521</td>\n",
       "      <td>0.029794</td>\n",
       "      <td>7.642549</td>\n",
       "      <td>1</td>\n",
       "    </tr>\n",
       "    <tr>\n",
       "      <th>1</th>\n",
       "      <td>0.216155</td>\n",
       "      <td>0.022242</td>\n",
       "      <td>6.541628</td>\n",
       "      <td>1</td>\n",
       "    </tr>\n",
       "    <tr>\n",
       "      <th>2</th>\n",
       "      <td>0.255288</td>\n",
       "      <td>0.028959</td>\n",
       "      <td>9.691690</td>\n",
       "      <td>1</td>\n",
       "    </tr>\n",
       "    <tr>\n",
       "      <th>3</th>\n",
       "      <td>0.323688</td>\n",
       "      <td>0.030494</td>\n",
       "      <td>8.147744</td>\n",
       "      <td>1</td>\n",
       "    </tr>\n",
       "    <tr>\n",
       "      <th>4</th>\n",
       "      <td>0.210893</td>\n",
       "      <td>0.024360</td>\n",
       "      <td>6.408226</td>\n",
       "      <td>1</td>\n",
       "    </tr>\n",
       "    <tr>\n",
       "      <th>...</th>\n",
       "      <td>...</td>\n",
       "      <td>...</td>\n",
       "      <td>...</td>\n",
       "      <td>...</td>\n",
       "    </tr>\n",
       "    <tr>\n",
       "      <th>1795</th>\n",
       "      <td>0.032001</td>\n",
       "      <td>0.008162</td>\n",
       "      <td>0.545736</td>\n",
       "      <td>2</td>\n",
       "    </tr>\n",
       "    <tr>\n",
       "      <th>1796</th>\n",
       "      <td>0.030685</td>\n",
       "      <td>0.007978</td>\n",
       "      <td>0.637705</td>\n",
       "      <td>2</td>\n",
       "    </tr>\n",
       "    <tr>\n",
       "      <th>1797</th>\n",
       "      <td>0.034960</td>\n",
       "      <td>0.008167</td>\n",
       "      <td>0.576496</td>\n",
       "      <td>2</td>\n",
       "    </tr>\n",
       "    <tr>\n",
       "      <th>1798</th>\n",
       "      <td>0.031014</td>\n",
       "      <td>0.008032</td>\n",
       "      <td>0.468465</td>\n",
       "      <td>2</td>\n",
       "    </tr>\n",
       "    <tr>\n",
       "      <th>1799</th>\n",
       "      <td>0.038906</td>\n",
       "      <td>0.007807</td>\n",
       "      <td>0.701163</td>\n",
       "      <td>2</td>\n",
       "    </tr>\n",
       "  </tbody>\n",
       "</table>\n",
       "<p>1800 rows × 4 columns</p>\n",
       "</div>"
      ],
      "text/plain": [
       "           max       rms      kurt  label\n",
       "0     0.311521  0.029794  7.642549      1\n",
       "1     0.216155  0.022242  6.541628      1\n",
       "2     0.255288  0.028959  9.691690      1\n",
       "3     0.323688  0.030494  8.147744      1\n",
       "4     0.210893  0.024360  6.408226      1\n",
       "...        ...       ...       ...    ...\n",
       "1795  0.032001  0.008162  0.545736      2\n",
       "1796  0.030685  0.007978  0.637705      2\n",
       "1797  0.034960  0.008167  0.576496      2\n",
       "1798  0.031014  0.008032  0.468465      2\n",
       "1799  0.038906  0.007807  0.701163      2\n",
       "\n",
       "[1800 rows x 4 columns]"
      ]
     },
     "metadata": {},
     "output_type": "display_data"
    },
    {
     "data": {
      "text/plain": [
       "array([[3.11520735e-01, 2.97939555e-02, 7.64254855e+00],\n",
       "       [2.16155053e-01, 2.22417637e-02, 6.54162790e+00],\n",
       "       [2.55287866e-01, 2.89586583e-02, 9.69169014e+00],\n",
       "       ...,\n",
       "       [3.49602789e-02, 8.16676767e-03, 5.76496280e-01],\n",
       "       [3.10141135e-02, 8.03191236e-03, 4.68464805e-01],\n",
       "       [3.89064443e-02, 7.80698809e-03, 7.01162602e-01]])"
      ]
     },
     "metadata": {},
     "output_type": "display_data"
    },
    {
     "data": {
      "text/plain": [
       "array([1., 1., 1., ..., 2., 2., 2.])"
      ]
     },
     "metadata": {},
     "output_type": "display_data"
    },
    {
     "name": "stdout",
     "output_type": "stream",
     "text": [
      "la exactitud de entrenamiento es =  0.8555555555555555\n",
      "la exactitud de test es =  0.8555555555555555\n"
     ]
    }
   ],
   "source": [
    "## ejercicio 5\n",
    "df2 = df.drop(['rps'],axis=1)\n",
    "X_2 = df2.values [: , 0:3] # valores a b segun corresponda\n",
    "y_2 = df2.values [: , 3] # valor c segun corresponda\n",
    "display(df2)\n",
    "display(X_2)\n",
    "display(y_2)\n",
    "X_train_3, X_test_3, y_train_3, y_test_3 = train_test_split(X_2, y_2, test_size=0.2, random_state=17)\n",
    "\n",
    "#entrenamiento del modelo 4\n",
    "logregre3 = LogisticRegression(max_iter = 10000, solver='lbfgs', C=100)\n",
    "logregre3.fit(X_train_3, y_train_3)\n",
    "y_train_predict_3 = logregre3.predict(X_train_3)\n",
    "print('la exactitud de entrenamiento es = ', accuracy_score(y_train_3, y_train_predict_3))\n",
    "\n",
    "#test del modelo 4\n",
    "y_test_predict_3 = logregre3.predict(X_test_3)\n",
    "print('la exactitud de test es = ', accuracy_score(y_test_3, y_test_predict_3))"
   ]
  }
 ],
 "metadata": {
  "kernelspec": {
   "display_name": "Python 3 (ipykernel)",
   "language": "python",
   "name": "python3"
  },
  "language_info": {
   "codemirror_mode": {
    "name": "ipython",
    "version": 3
   },
   "file_extension": ".py",
   "mimetype": "text/x-python",
   "name": "python",
   "nbconvert_exporter": "python",
   "pygments_lexer": "ipython3",
   "version": "3.9.12"
  }
 },
 "nbformat": 4,
 "nbformat_minor": 5
}
