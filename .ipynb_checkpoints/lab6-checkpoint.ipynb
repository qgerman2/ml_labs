{
 "cells": [
  {
   "cell_type": "code",
   "execution_count": 9,
   "id": "8af5a3cb-08eb-492c-b124-cf21e2ddb762",
   "metadata": {},
   "outputs": [
    {
     "ename": "AttributeError",
     "evalue": "module 'PIL' has no attribute 'Image'",
     "output_type": "error",
     "traceback": [
      "\u001b[1;31m---------------------------------------------------------------------------\u001b[0m",
      "\u001b[1;31mAttributeError\u001b[0m                            Traceback (most recent call last)",
      "Input \u001b[1;32mIn [9]\u001b[0m, in \u001b[0;36m<cell line: 7>\u001b[1;34m()\u001b[0m\n\u001b[0;32m      7\u001b[0m \u001b[38;5;28;01mfor\u001b[39;00m name \u001b[38;5;129;01min\u001b[39;00m listdir(mydir):\n\u001b[0;32m      8\u001b[0m     path \u001b[38;5;241m=\u001b[39m join(mydir, name)\n\u001b[1;32m----> 9\u001b[0m     data \u001b[38;5;241m=\u001b[39m np\u001b[38;5;241m.\u001b[39masarray(\u001b[43mPIL\u001b[49m\u001b[38;5;241;43m.\u001b[39;49m\u001b[43mImage\u001b[49m\u001b[38;5;241m.\u001b[39mopen(path))\n\u001b[0;32m     10\u001b[0m     a\u001b[38;5;241m.\u001b[39mappend(data)\n\u001b[0;32m     11\u001b[0m X \u001b[38;5;241m=\u001b[39m np\u001b[38;5;241m.\u001b[39marray(a)\n",
      "\u001b[1;31mAttributeError\u001b[0m: module 'PIL' has no attribute 'Image'"
     ]
    }
   ],
   "source": [
    "from PIL import Image\n",
    "import numpy as np\n",
    "from os import listdir\n",
    "from os.path import join\n",
    "mydir = r'fotos'\n",
    "a = []\n",
    "for name in listdir(mydir):\n",
    "    path = join(mydir, name)\n",
    "    data = np.asarray(Image.open(path))\n",
    "    a.append(data)\n",
    "X = np.array(a)\n",
    "print(X.shape)\n"
   ]
  },
  {
   "cell_type": "code",
   "execution_count": null,
   "id": "85ec39f4-ac69-4046-a089-0a4fddb536ea",
   "metadata": {},
   "outputs": [],
   "source": []
  }
 ],
 "metadata": {
  "kernelspec": {
   "display_name": "Python 3 (ipykernel)",
   "language": "python",
   "name": "python3"
  },
  "language_info": {
   "codemirror_mode": {
    "name": "ipython",
    "version": 3
   },
   "file_extension": ".py",
   "mimetype": "text/x-python",
   "name": "python",
   "nbconvert_exporter": "python",
   "pygments_lexer": "ipython3",
   "version": "3.9.5"
  }
 },
 "nbformat": 4,
 "nbformat_minor": 5
}
