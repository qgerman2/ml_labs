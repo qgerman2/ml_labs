{
 "cells": [
  {
   "cell_type": "code",
   "execution_count": null,
   "id": "8af5a3cb-08eb-492c-b124-cf21e2ddb762",
   "metadata": {},
   "outputs": [],
   "source": [
    "from os import listdir\n",
    "from os . path import join\n",
    "mydir = r’Carpeta -Z’ # carpeta dentro del directorio de trabajo\n",
    "a = [] # lista vacia\n",
    "for name in listdir ( mydir ) : # itera sobre cada archivo dentro de la carpeta\n",
    "\"en este caso name es el nombre de cada archivo \"\n",
    "\" name [0] seria por ejemplo la primera letra del nombre \"\n",
    "path = join ( mydir , name ) # ruta completa hasta el archivo de la iteracion\n",
    "data = \" abrir datos desde el archivo de la iteracion \"\n",
    "a . append ( data ) #va agregando los datos (ej: imagenes ) a la lista\n",
    "a = np . array ( x ) # transforma la lista en array\n",
    "print ( a . shape ) # verifica las dimensiones del array\n"
   ]
  }
 ],
 "metadata": {
  "kernelspec": {
   "display_name": "Python 3 (ipykernel)",
   "language": "python",
   "name": "python3"
  },
  "language_info": {
   "codemirror_mode": {
    "name": "ipython",
    "version": 3
   },
   "file_extension": ".py",
   "mimetype": "text/x-python",
   "name": "python",
   "nbconvert_exporter": "python",
   "pygments_lexer": "ipython3",
   "version": "3.9.12"
  }
 },
 "nbformat": 4,
 "nbformat_minor": 5
}
