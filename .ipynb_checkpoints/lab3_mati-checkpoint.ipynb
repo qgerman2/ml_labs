{
 "cells": [
  {
   "cell_type": "code",
   "execution_count": 24,
   "id": "a4b86029-f257-430b-91d3-cf4c2f3165ef",
   "metadata": {},
   "outputs": [],
   "source": [
    "import pandas as pd\n",
    "import numpy as np\n",
    "from sklearn.model_selection import train_test_split \n",
    "\n",
    "df = pd.read_excel ('uw-vehicle-1.xlsx')\n",
    "X = np.transpose(np.transpose(df)[1:17])\n",
    "y = np.transpose(np.transpose(df)[17:18])\n"
   ]
  },
  {
   "cell_type": "code",
   "execution_count": null,
   "id": "b61ee509-da61-47ce-bb4b-a730480ad0a5",
   "metadata": {},
   "outputs": [
    {
     "name": "stderr",
     "output_type": "stream",
     "text": [
      "C:\\Users\\asd\\anaconda3\\lib\\site-packages\\sklearn\\utils\\validation.py:993: DataConversionWarning: A column-vector y was passed when a 1d array was expected. Please change the shape of y to (n_samples, ), for example using ravel().\n",
      "  y = column_or_1d(y, warn=True)\n"
     ]
    }
   ],
   "source": [
    "from sklearn.svm import SVC \n",
    "from sklearn.model_selection import train_test_split \n",
    "X_train, X_test, y_train, y_test = train_test_split(X, y, test_size=0.4, random_state=11)\n",
    "\n",
    "\n",
    " \n",
    "clf = SVC() \n",
    "clf.fit(X_train, y_train) \n",
    "y_test_pred = clf.predict(X_test) \n",
    " \n",
    "print('Clases real = ', y_test) \n",
    "print('Clases pred = ', y_test_pred) "
   ]
  },
  {
   "cell_type": "code",
   "execution_count": null,
   "id": "182c8d45-a4b9-42de-9f2d-793db5206343",
   "metadata": {},
   "outputs": [],
   "source": []
  }
 ],
 "metadata": {
  "kernelspec": {
   "display_name": "Python 3 (ipykernel)",
   "language": "python",
   "name": "python3"
  },
  "language_info": {
   "codemirror_mode": {
    "name": "ipython",
    "version": 3
   },
   "file_extension": ".py",
   "mimetype": "text/x-python",
   "name": "python",
   "nbconvert_exporter": "python",
   "pygments_lexer": "ipython3",
   "version": "3.9.12"
  }
 },
 "nbformat": 4,
 "nbformat_minor": 5
}
