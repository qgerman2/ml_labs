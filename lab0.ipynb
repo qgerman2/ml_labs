{
 "cells": [
  {
   "cell_type": "code",
   "execution_count": 2,
   "id": "094cda18",
   "metadata": {},
   "outputs": [
    {
     "data": {
      "text/plain": [
       "[<matplotlib.lines.Line2D at 0x22941b42340>]"
      ]
     },
     "execution_count": 2,
     "metadata": {},
     "output_type": "execute_result"
    },
    {
     "data": {
      "image/png": "[encoded data removed]",
      "text/plain": [
       "<Figure size 432x288 with 1 Axes>"
      ]
     },
     "metadata": {
      "needs_background": "light"
     },
     "output_type": "display_data"
    }
   ],
   "source": [
    "# Ejercicio 1\n",
    "# Graficar una función coseno con 10 ciclos y amplitud 2 utilizando un color verde para la curva.\n",
    "#\n",
    "# Basado en documentación de matplotlib, ejemplo de señales\n",
    "# https://matplotlib.org/stable/gallery/lines_bars_and_markers/cohere.html#sphx-glr-gallery-lines-bars-and-markers-cohere-py\n",
    "\n",
    "import numpy as np\n",
    "import matplotlib.pyplot as plt\n",
    "import pandas as pd\n",
    "\n",
    "amplitud = 2\n",
    "frecuencia = 1 # ciclos por segundo\n",
    "tiempo = 10    # segundos de simulación\n",
    "\n",
    "dt = 0.01\n",
    "t = np.arange(0, tiempo, dt)\n",
    "\n",
    "s = amplitud * np.cos(2 * np.pi * frecuencia * t)\n",
    "\n",
    "plt.plot(t, s, color='green')"
   ]
  },
  {
   "cell_type": "code",
   "execution_count": 25,
   "id": "f04c42a7",
   "metadata": {},
   "outputs": [
    {
     "name": "stdout",
     "output_type": "stream",
     "text": [
      "[ 6  7  8  9 10 11 12 13 14 15 16 17 18 19 20]\n",
      "13.0\n",
      "4.320493798938574\n"
     ]
    }
   ],
   "source": [
    "# Ejercicio 2\n",
    "# Calcular el promedio y desviación estándar del conjunto de números 6, 7, 8, ... 20.\n",
    "\n",
    "a = np.arange(6,21)\n",
    "print(a)\n",
    "\n",
    "promedio = np.mean(a)\n",
    "print(promedio)\n",
    "\n",
    "desviacion = np.std(a)\n",
    "print(desviacion)"
   ]
  },
  {
   "cell_type": "code",
   "execution_count": 36,
   "id": "5c073a00",
   "metadata": {},
   "outputs": [
    {
     "name": "stdout",
     "output_type": "stream",
     "text": [
      "{'Región de Coquimbo': 'La Serena', 'Región de Valparaíso': 'Valparaíso', 'Región Metropolitana de Santiago': 'Santiago', 'Región del Biobío': 'Concepción'}\n",
      "{'Región de Coquimbo': 4, 'Región de Valparaíso': 5, 'Región Metropolitana de Santiago': 13, 'Región del Biobío': 8}\n"
     ]
    }
   ],
   "source": [
    "# Ejercicio 3\n",
    "# Escribir un diccionario cuyas llaves sean nombres de 4 regiones de Chile y sus respectivos valores\n",
    "# sean las capitales regionales. Crear un segundo diccionario a partir del anterior, cuyos valores sean\n",
    "# en vez el número de la región.\n",
    "\n",
    "dict1 = {\"Región de Coquimbo\": \"La Serena\",\n",
    "         \"Región de Valparaíso\": \"Valparaíso\",\n",
    "         \"Región Metropolitana de Santiago\": \"Santiago\",\n",
    "         \"Región del Biobío\": \"Concepción\"}\n",
    "\n",
    "# Copiar primer diccionario a una nueva variable y no solo traer el puntero\n",
    "# https://stackoverflow.com/questions/2783489/python-copy-by-reference\n",
    "\n",
    "dict2 = dict(dict1)\n",
    "dict2[\"Región de Coquimbo\"] = 4\n",
    "dict2[\"Región de Valparaíso\"] = 5\n",
    "dict2[\"Región Metropolitana de Santiago\"] = 13\n",
    "dict2[\"Región del Biobío\"] = 8\n",
    "\n",
    "print(dict1)\n",
    "print(dict2)"
   ]
  },
  {
   "cell_type": "code",
   "execution_count": 45,
   "id": "e18f60a0",
   "metadata": {},
   "outputs": [
    {
     "name": "stdout",
     "output_type": "stream",
     "text": [
      "27\n",
      "15\n",
      "0\n",
      "Aviso: El número 21 es mayor que 20\n",
      "nan\n"
     ]
    }
   ],
   "source": [
    "# Ejercicio 4\n",
    "# Crear una función que tenga como entrada un número natural y entregue: (1) la diferencia entre el\n",
    "# número y 20, si es que el número es menor que 20, o bien, (2) el aviso ”el número es mayor que 20”\n",
    "# si es que el número es mayor que 20.\n",
    "\n",
    "import numpy as np\n",
    "\n",
    "def hasta20(x):\n",
    "    if x > 20:\n",
    "        print(\"Aviso: El número\", x, \"es mayor que 20\")\n",
    "        return np.nan\n",
    "    else:\n",
    "        return 20 - x\n",
    "\n",
    "print(hasta20(-7))\n",
    "print(hasta20(5))\n",
    "print(hasta20(20))\n",
    "print(hasta20(21))"
   ]
  },
  {
   "cell_type": "code",
   "execution_count": 56,
   "id": "df04d4e0",
   "metadata": {},
   "outputs": [
    {
     "name": "stdout",
     "output_type": "stream",
     "text": [
      "[15 41 49 22 17 54 64 36 87 74 32 65 23 65 72 46 66 22 42 35]\n",
      "[0, 1, 2, 4, 8, 11, 12, 13, 19]\n",
      "[15 41 49 17 87 65 23 65 35]\n"
     ]
    }
   ],
   "source": [
    "# Ejercicio 5\n",
    "# Crear un arreglo de 20 números enteros al azar entre 1 y 100. Luego, identificar mediante código\n",
    "# las posiciones dentro del array en donde hayan números impares.\n",
    "\n",
    "# Documentación randint\n",
    "# https://numpy.org/doc/stable/reference/random/generated/numpy.random.randint.html\n",
    "\n",
    "import numpy as np\n",
    "a = np.random.randint(1, 101, 20)\n",
    "print(a)\n",
    "\n",
    "# Documentación enumerate\n",
    "# https://docs.python.org/3/library/functions.html#enumerate\n",
    "\n",
    "b = list()                 # Lista donde guardar posición de numeros impares\n",
    "for i, x in enumerate(a):  # Iterar por lista de numeros aleatorios con índice y valor\n",
    "    if x % 2 != 0:         # Si el valor es impar\n",
    "        b.append(i)        # Agregar índice a lista b de posiciones\n",
    "print(b)\n",
    "\n",
    "print(a[b])"
   ]
  },
  {
   "cell_type": "code",
   "execution_count": 67,
   "id": "963ceb7c",
   "metadata": {},
   "outputs": [
    {
     "data": {
      "text/plain": [
       "<matplotlib.legend.Legend at 0x2c1e18a1520>"
      ]
     },
     "execution_count": 67,
     "metadata": {},
     "output_type": "execute_result"
    },
    {
     "data": {
      "image/png": "[encoded data removed]",
      "text/plain": [
       "<Figure size 432x288 with 1 Axes>"
      ]
     },
     "metadata": {
      "needs_background": "light"
     },
     "output_type": "display_data"
    }
   ],
   "source": [
    "# Ejercicio 6\n",
    "# Crear 2 arreglos A y B con cada uno 10 números reales al azar entre 0 y 1. Usar un diagrama de\n",
    "# dispersión para graficar A vs B en color rojo y en el mismo diagrama graficar -A vs -B en color\n",
    "# azul. Asignar etiquetas ”positivo” al color rojo y ”negativo” al color azul\n",
    "\n",
    "# Documentación rand\n",
    "# https://numpy.org/doc/stable/reference/random/generated/numpy.random.rand.html\n",
    "\n",
    "import numpy as np\n",
    "a = np.random.rand(10)\n",
    "b = np.random.rand(10)\n",
    "\n",
    "# Documentación scatter plot\n",
    "# https://matplotlib.org/stable/api/_as_gen/matplotlib.pyplot.scatter.html\n",
    "\n",
    "import matplotlib.pyplot as plt\n",
    "plt.scatter(a, b, color=\"red\", label=\"Positivo\")\n",
    "plt.scatter(-a, -b, color=\"blue\", label=\"Negativo\")\n",
    "\n",
    "# Documentación legend\n",
    "# https://matplotlib.org/stable/api/_as_gen/matplotlib.pyplot.legend.html\n",
    "plt.legend()"
   ]
  },
  {
   "cell_type": "code",
   "execution_count": 97,
   "id": "166ff14c",
   "metadata": {},
   "outputs": [
    {
     "name": "stdout",
     "output_type": "stream",
     "text": [
      "Integración con quad: (0.5, 5.551115123125783e-15)\n",
      "Ecuación de area: 0.5\n"
     ]
    },
    {
     "data": {
      "text/plain": [
       "[<matplotlib.lines.Line2D at 0x2c1e254f9a0>]"
      ]
     },
     "execution_count": 97,
     "metadata": {},
     "output_type": "execute_result"
    },
    {
     "data": {
      "image/png": "[encoded data removed]",
      "text/plain": [
       "<Figure size 432x288 with 1 Axes>"
      ]
     },
     "metadata": {
      "needs_background": "light"
     },
     "output_type": "display_data"
    }
   ],
   "source": [
    "# Ejercicio 7\n",
    "# Averiguar sobre el módulo ”scipy” y crear alguna función en que se use dicho módulo. Luego, aplicar\n",
    "# la función a algún caso.\n",
    "\n",
    "# Revisando la documentación de scipy se encuentran ejemplos de como integrar\n",
    "# https://docs.scipy.org/doc/scipy/tutorial/integrate.html#\n",
    "\n",
    "# Se realizara la integración de una señal que dibuje un triángulo de base 1 y altura 1,\n",
    "# para luego confirmar el resultado de area utilizando la ecuación del area del triángulo normal.\n",
    "\n",
    "import numpy as np\n",
    "import matplotlib.pyplot as plt\n",
    "import scipy.integrate as integrate\n",
    "\n",
    "def triangulo(x):\n",
    "    if x < 0.5:\n",
    "        return x*2\n",
    "    else:\n",
    "        return 1 - (x-0.5)*2\n",
    "\n",
    "print(\"Integración con quad:\", integrate.quad(triangulo, 0, 1))\n",
    "print(\"Ecuación de area:\", 1*1/2)\n",
    "\n",
    "# Plot demostrativo\n",
    "x = np.arange(0, 1, 0.01)\n",
    "y = list()\n",
    "for v in x:\n",
    "    y.append(triangulo(v))\n",
    "plt.plot(x, y)"
   ]
  },
  {
   "cell_type": "code",
   "execution_count": 124,
   "id": "26b3ea58",
   "metadata": {},
   "outputs": [
    {
     "name": "stdout",
     "output_type": "stream",
     "text": [
      "Array\n",
      "[[0.48345413 0.59620462 0.06483673 0.91837874 0.57128846]\n",
      " [0.26666908 0.008427   0.57865517 0.91678621 0.22904016]\n",
      " [0.58514776 0.30980624 0.85105559 0.70812294 0.83660026]\n",
      " [0.39268783 0.47995255 0.14297401 0.06228969 0.90113331]\n",
      " [0.81379773 0.8773455  0.35914342 0.40608321 0.83308831]]\n",
      "\n",
      "Fila 3\n",
      "[0.58514776 0.30980624 0.85105559 0.70812294 0.83660026]\n",
      "3.290732785262586\n",
      "\n",
      "Nuevo array\n",
      "[[0.48345413 0.59620462]\n",
      " [0.26666908 0.008427  ]\n",
      " [0.58514776 0.30980624]\n",
      " [0.39268783 0.47995255]\n",
      " [0.81379773 0.8773455 ]]\n"
     ]
    }
   ],
   "source": [
    "# Ejercicio 8\n",
    "# Crear un np.ndarray con forma de matriz cuadrada de orden 5 que tenga valores al azar entre 0 y 1.\n",
    "# Luego, calcular la suma de la fila 3 y crear un nuevo np.ndarray que consista solo en las 2 primeras\n",
    "# columnas del np.ndarray original.\n",
    "\n",
    "# Documentación ndarray\n",
    "# https://numpy.org/doc/stable/reference/arrays.ndarray.html\n",
    "\n",
    "import numpy as np\n",
    "A = np.random.rand(25).reshape(5, 5)\n",
    "print(\"Array\")\n",
    "print(A)\n",
    "\n",
    "# Fila 3\n",
    "print(\"\\nFila 3\")\n",
    "print(A[2,:])\n",
    "print(np.sum(A[2,:]))\n",
    "\n",
    "# Nuevo array\n",
    "print(\"\\nNuevo array\")\n",
    "print(A[:, 0:2])"
   ]
  },
  {
   "cell_type": "code",
   "execution_count": 2,
   "id": "b10ccb3b",
   "metadata": {},
   "outputs": [
    {
     "name": "stdout",
     "output_type": "stream",
     "text": [
      "0      5\n",
      "1      6\n",
      "2      7\n",
      "3     10\n",
      "4      8\n",
      "5      1\n",
      "6     30\n",
      "7     65\n",
      "8    700\n",
      "9     50\n",
      "Name: carne, dtype: int64\n",
      "+++++++\n",
      "0     15\n",
      "1    200\n",
      "2    398\n",
      "3     82\n",
      "4     20\n",
      "5     11\n",
      "6    236\n",
      "7    547\n",
      "8      9\n",
      "9    550\n",
      "Name: cerdo, dtype: int64\n",
      "+++++++\n",
      "0    222\n",
      "1    359\n",
      "2    489\n",
      "3    253\n",
      "4     35\n",
      "5     68\n",
      "6    758\n",
      "7    230\n",
      "8    586\n",
      "9    663\n",
      "Name: salmon, dtype: int64\n",
      "+++++++\n"
     ]
    }
   ],
   "source": [
    "#pregunta 10\n",
    "#Crear un archivo Excel que tenga 3 columnas cada una con 10 n´umeros cualesquiera. Adem´as de las\n",
    "#10 filas para esos n´umeros, considerar una fila inicial de encabezado con tres nombres cualesquiera.\n",
    "#Leer el archivo Excel convirti´endolo en un dataframe e imprimir por separado los valores de las 3\n",
    "#columnas directamente desde el dataframe.\n",
    "\n",
    "import pandas as pd\n",
    "data = pd.read_excel (r'lab0_ejercicio10.xlsx') #place \"r\" before the path string to address special character, such as '\\'. Don't forget to put the file name at the end of the path + '.xlsx'\n",
    "df1= pd.DataFrame(data,columns=['carne'])\n",
    "df2= pd.DataFrame(data,columns=['cerdo'])\n",
    "df3= pd.DataFrame(data,columns=['salmon'])\n",
    "print(df1.carne)\n",
    "print('++++++++++++++++++++++++++++++++')\n",
    "print(df2.cerdo)\n",
    "print('++++++++++++++++++++++++++++++++')\n",
    "print(df3.salmon)\n",
    "print('++++++++++++++++++++++++++++++++')"
   ]
  },
  {
   "cell_type": "code",
   "execution_count": null,
   "id": "98b63652",
   "metadata": {},
   "outputs": [],
   "source": [
    "#ejercicio 11\n",
    "#Crear un dataframe nuevo con dos columnas (adem´as de los ´ındices) que contengan n´umeros enteros\n",
    "#al azar entre 1 y 20 considerando un total de 20 filas. Exporte dicho dataframe hacia un archivo\n",
    "#Excel considerando los encabezados ”rojo” y ”azul” para cada una de las dos columnas.\n",
    "\n",
    "dat1 = {'rojo':np.random.randint(1,21,20), 'verde':np.random.randint(1,21,20)}\n",
    "dff1 = pd.DataFrame(dat1,index= ['N°1','N°2','N°3','N°4','N°5','N°6','N°7','N°8','N°9','N°10','N°11','N°12','N°13','N°14','N°15','N°16','N°17','N°18','N°19','N°20'])\n",
    "dff1\n",
    "#pasando el dataframe a excel\n",
    "dff1.to_excel(\"ejercicio 11.xlsx\")"
   ]
  },
  {
   "cell_type": "code",
   "execution_count": 63,
   "id": "19569438",
   "metadata": {},
   "outputs": [
    {
     "name": "stdout",
     "output_type": "stream",
     "text": [
      "          German  Matias  Natalia  Andre  Geovanni\n",
      "Prueba 1     7.0     6.8      6.9    6.7       7.0\n",
      "Prueba 2     3.8     3.7      3.8    3.0       2.9\n",
      "Prueba 3     6.5     4.2      5.5    3.9       3.7\n",
      "Prueba 4     4.0     3.2      3.0    4.0       4.9\n",
      "Prueba 5     4.5     5.1      4.5    3.9       5.7\n",
      "Prueba 6     6.9     6.0      5.7    6.3       5.9\n",
      "+++++++++++++++++++++++++++++++++++++++++++++++++++++++++++++++++++++++++++++++++++++++++++++++++\n",
      "las notas mayores o iguales a 4.0 de German son:  [7.  6.5 4.  4.5 6.9]\n",
      "las notas mayores o iguales a 4.0 de Matias son:  [6.8 4.2 5.1 6. ]\n",
      "las notas mayores o iguales a 4.0 de Natalia son:  [6.9 5.5 4.5 5.7]\n",
      "las notas mayores o iguales a 4.0 de Andre son:  [6.7 4.  6.3]\n",
      "las notas mayores o iguales a 4.0 de Geovanni son:  [7.  6.5 4.  4.5 6.9]\n"
     ]
    }
   ],
   "source": [
    "#ejercicio 9\n",
    "#Crear un diccionario con los nombres de 5 personas como llaves y con sus respectivas notas en\n",
    "#matem´atica durante un semestre como valores considerando 6 notas. Transformar el diccionario a\n",
    "#un dataframe que en los ´ındices diga ”prueba 1”, ”prueba 2”, etc. Luego, filtrar el diccionario con\n",
    "#todas las notas superiores a 4.0.\n",
    "\n",
    "dicc = {'German':[7.0, 3.8, 6.5, 4.0, 4.5, 6.9], 'Matias':[6.8, 3.7, 4.2, 3.2, 5.1, 6.0], \n",
    "        'Natalia':[6.9, 3.8, 5.5, 3.0, 4.5, 5.7], 'Andre':[6.7, 3.0, 3.9, 4, 3.9, 6.3], \n",
    "        'Geovanni':[7.0, 2.9, 3.7, 4.9, 5.7, 5.9]}\n",
    "\n",
    "notas = pd.DataFrame(dicc,index=['Prueba 1', 'Prueba 2', 'Prueba 3', 'Prueba 4', 'Prueba 5', 'Prueba 6'])\n",
    "print(notas)\n",
    "\n",
    "a1 = np.array(dicc['German'])\n",
    "pos_notas_german = list()\n",
    "for i, x in enumerate(a1):\n",
    "    if x >= 4.0:\n",
    "        pos_notas_german.append(i)\n",
    "azules_german = a1[pos_notas_german]\n",
    "\n",
    "a2 = np.array(dicc['Matias'])\n",
    "pos_notas_matias = list()\n",
    "for i, x in enumerate(a2):\n",
    "    if x >= 4.0:\n",
    "        pos_notas_matias.append(i)\n",
    "azules_matias = a2[pos_notas_matias]\n",
    "\n",
    "a3 = np.array(dicc['Natalia'])\n",
    "pos_notas_natalia = list()\n",
    "for i, x in enumerate(a3):\n",
    "    if x >= 4.0:\n",
    "        pos_notas_natalia.append(i)\n",
    "azules_natalia = a3[pos_notas_natalia]\n",
    "\n",
    "a4 = np.array(dicc['Andre'])\n",
    "pos_notas_andre = list()\n",
    "for i, x in enumerate(a4):\n",
    "    if x >= 4.0:\n",
    "        pos_notas_andre.append(i)\n",
    "azules_andre = a4[pos_notas_andre]\n",
    "\n",
    "a5 = np.array(dicc['Geovanni'])\n",
    "pos_notas_geovanni = list()\n",
    "for i, x in enumerate(a5):\n",
    "    if x >= 4.0:\n",
    "        pos_notas_geovanni.append(i)\n",
    "azules_geovanni = a1[pos_notas_german]\n",
    "\n",
    "dicc_filt = {'German':azules_german, 'Matias':azules_matias, \n",
    "        'Natalia':azules_natalia, 'Andre':azules_andre, \n",
    "        'Geovanni':azules_geovanni}\n",
    "\n",
    "print('+++++++++++++++++++++++++++++++++++++++++++++++++++++++++++++++++++++++++++++++++++++++++++++++++')\n",
    "\n",
    "print('las notas mayores o iguales a 4.0 de German son: ',dicc_filt['German'])\n",
    "print('las notas mayores o iguales a 4.0 de Matias son: ',dicc_filt['Matias'])\n",
    "print('las notas mayores o iguales a 4.0 de Natalia son: ',dicc_filt['Natalia'])\n",
    "print('las notas mayores o iguales a 4.0 de Andre son: ',dicc_filt['Andre'])\n",
    "print('las notas mayores o iguales a 4.0 de Geovanni son: ',dicc_filt['Geovanni'])\n",
    "#notas_german = dicc['German']\n",
    "#dicc_values = dicc.values()\n",
    "\n",
    "#for x in dicc_values:\n",
    "    #for element in x:\n",
    "        #print(element)\n",
    "        #if element >= 4.0:\n",
    "            #print(element)\n",
    "            \n",
    "        "
   ]
  },
  {
   "cell_type": "code",
   "execution_count": 45,
   "id": "c4aabee4",
   "metadata": {},
   "outputs": [
    {
     "data": {
      "image/png": "[encoded data removed]",
      "text/plain": [
       "<Figure size 432x288 with 1 Axes>"
      ]
     },
     "metadata": {
      "needs_background": "light"
     },
     "output_type": "display_data"
    },
    {
     "data": {
      "image/png": "[encoded data removed]",
      "text/plain": [
       "<Figure size 432x288 with 1 Axes>"
      ]
     },
     "metadata": {
      "needs_background": "light"
     },
     "output_type": "display_data"
    },
    {
     "data": {
      "image/png": "[encoded data removed]",
      "text/plain": [
       "<Figure size 432x288 with 1 Axes>"
      ]
     },
     "metadata": {
      "needs_background": "light"
     },
     "output_type": "display_data"
    },
    {
     "name": "stderr",
     "output_type": "stream",
     "text": [
      "C:\\Users\\matiu\\anaconda3\\lib\\site-packages\\matplotlib\\cbook\\__init__.py:1298: ComplexWarning: Casting complex values to real discards the imaginary part\n",
      "  return np.asarray(x, float)\n"
     ]
    },
    {
     "data": {
      "text/plain": [
       "[<matplotlib.lines.Line2D at 0x2294377fcd0>]"
      ]
     },
     "execution_count": 45,
     "metadata": {},
     "output_type": "execute_result"
    },
    {
     "data": {
      "image/png": "[encoded data removed]",
      "text/plain": [
       "<Figure size 432x288 with 1 Axes>"
      ]
     },
     "metadata": {
      "needs_background": "light"
     },
     "output_type": "display_data"
    }
   ],
   "source": [
    "#ejercicio 12\n",
    "#Crear una funcion que sea la suma de dos armonicos de frecuencias 5 Hz y 8 Hz, cada uno de\n",
    "#magnitud unitaria. Calcular la transformada rapida de Fourier de dicha funcion y graficar su\n",
    "#espectro en magnitud.\n",
    "\n",
    "t = np.arange(0,10,0.01)\n",
    "arm1 = np.cos(2/5*np.pi*t) #armonico con frecuencia 5 Hz\n",
    "arm2 = np.cos(1/4*np.pi*t) #armonico con frecuencia 8 Hz\n",
    "\n",
    "plt.plot(t, arm1, color='red')   #ploteo del armonico 1\n",
    "plt.xlabel('tiempo s')\n",
    "plt.ylabel('amplitud V')\n",
    "plt.show()\n",
    "\n",
    "plt.plot(t, arm2, color='green')    #ploteo del armonico 2\n",
    "plt.xlabel('tiempo s')\n",
    "plt.ylabel('amplitud V')\n",
    "plt.show()\n",
    "\n",
    "def armonico(arm1,arm2):            #funcion que suma 2 armonicos\n",
    "    suma = arm1+arm2\n",
    "    return suma\n",
    "\n",
    "plt.plot(t, armonico(arm1,arm2), color='blue')   #ploteo de la funcion de armonicos\n",
    "plt.xlabel('tiempo s')\n",
    "plt.ylabel('amplitud V')\n",
    "plt.show()\n",
    "\n",
    "trf = np.fft.fft(armonico(arm1,arm2))             #transformada rapida de fourier\n",
    "trf = trf[range(int(len(armonico(arm1,arm2))))]\n",
    "tpCount = len(armonico(arm1,arm2))\n",
    "values  = np.arange(int(tpCount))\n",
    "timePeriod  = tpCount/100\n",
    "frequencies = values/timePeriod\n",
    "\n",
    "plt.plot(frequencies,trf,color='black')            #graficacion de señales\n",
    "#trf"
   ]
  },
  {
   "cell_type": "code",
   "execution_count": null,
   "id": "81f941a5",
   "metadata": {},
   "outputs": [],
   "source": []
  }
 ],
 "metadata": {
  "kernelspec": {
   "display_name": "Python 3 (ipykernel)",
   "language": "python",
   "name": "python3"
  },
  "language_info": {
   "codemirror_mode": {
    "name": "ipython",
    "version": 3
   },
   "file_extension": ".py",
   "mimetype": "text/x-python",
   "name": "python",
   "nbconvert_exporter": "python",
   "pygments_lexer": "ipython3",
   "version": "3.9.12"
  }
 },
 "nbformat": 4,
 "nbformat_minor": 5
}
