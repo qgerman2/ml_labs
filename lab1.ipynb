{
 "cells": [
  {
   "cell_type": "code",
   "execution_count": 13,
   "id": "3f0b1c82-16a2-42b5-b573-eab11f812197",
   "metadata": {},
   "outputs": [],
   "source": [
    "import matplotlib.pyplot as plt\n",
    "from sklearn.model_selection import train_test_split\n",
    "from sklearn.linear_model import LinearRegression\n",
    "from sklearn.metrics import mean_squared_error\n",
    "from sklearn.metrics import r2_score\n",
    "import numpy as np\n",
    "from sklearn . datasets import fetch_california_housing\n",
    "housing = fetch_california_housing ( as_frame = False )"
   ]
  },
  {
   "cell_type": "code",
   "execution_count": 14,
   "id": "33989af2-2cad-441d-b4ec-b640bd5975cb",
   "metadata": {},
   "outputs": [
    {
     "name": "stdout",
     "output_type": "stream",
     "text": [
      "Nombre atributos: ['MedInc', 'HouseAge', 'AveRooms', 'AveBedrms', 'Population', 'AveOccup', 'Latitude', 'Longitude']\n",
      "Numero de observaciones:  20640\n"
     ]
    },
    {
     "data": {
      "text/plain": [
       "(array([ 877., 3612., 4099., 3771., 2799., 1769., 1239.,  752.,  479.,\n",
       "        1243.]),\n",
       " array([0.14999 , 0.634992, 1.119994, 1.604996, 2.089998, 2.575   ,\n",
       "        3.060002, 3.545004, 4.030006, 4.515008, 5.00001 ]),\n",
       " <BarContainer object of 10 artists>)"
      ]
     },
     "execution_count": 14,
     "metadata": {},
     "output_type": "execute_result"
    },
    {
     "data": {
      "image/png": "[encoded data removed]",
      "text/plain": [
       "<Figure size 432x288 with 1 Axes>"
      ]
     },
     "metadata": {
      "needs_background": "light"
     },
     "output_type": "display_data"
    }
   ],
   "source": [
    "##ITEM 1\n",
    "nombres = housing.feature_names # ndarray con todos los features\n",
    "x = housing.data\n",
    "y = housing.target\n",
    "print(\"Nombre atributos:\", nombres)\n",
    "print(\"Numero de observaciones: \", len(y))\n",
    "plt.hist(y)"
   ]
  },
  {
   "cell_type": "code",
   "execution_count": 15,
   "id": "dcc6a1df-034f-45b0-b1f4-62b30af2a623",
   "metadata": {},
   "outputs": [
    {
     "name": "stdout",
     "output_type": "stream",
     "text": [
      "el error de entrenamiento es MSE =  0.5145924626720385\n",
      "el error de test es MSE =  0.5435945247974568\n"
     ]
    }
   ],
   "source": [
    "## ITEM 2\n",
    "X_train, X_test, y_train, y_test = train_test_split(x, y, test_size=0.40, random_state=42)\n",
    "regre = LinearRegression()\n",
    "regre.fit(X_train, y_train)\n",
    "y_train_predict = regre.predict(X_train)\n",
    "mse_train = mean_squared_error(y_train, y_train_predict)\n",
    "print('el error de entrenamiento es MSE = ', mse_train)\n",
    "\n",
    "y_test_predict = regre.predict(X_test)\n",
    "mse_train_test = mean_squared_error(y_test, y_test_predict)\n",
    "print('el error de test es MSE = ', mse_train_test)"
   ]
  },
  {
   "cell_type": "code",
   "execution_count": 16,
   "id": "76b724df-f0b9-4aef-b6ac-4005fe210143",
   "metadata": {},
   "outputs": [
    {
     "name": "stdout",
     "output_type": "stream",
     "text": [
      "R2 Training:  0.612130026035787\n",
      "R2 Test:  0.5939400468776981\n"
     ]
    }
   ],
   "source": [
    "## ITEM 3\n",
    "r2train = r2_score(y_train, y_train_predict)\n",
    "r2test = r2_score(y_test, y_test_predict)\n",
    "print(\"R2 Training: \", r2train)\n",
    "print(\"R2 Test: \", r2test)\n"
   ]
  },
  {
   "cell_type": "code",
   "execution_count": null,
   "id": "7fc99347-bde9-45a9-9367-dacd84810698",
   "metadata": {},
   "outputs": [],
   "source": []
  }
 ],
 "metadata": {
  "kernelspec": {
   "display_name": "Python 3 (ipykernel)",
   "language": "python",
   "name": "python3"
  },
  "language_info": {
   "codemirror_mode": {
    "name": "ipython",
    "version": 3
   },
   "file_extension": ".py",
   "mimetype": "text/x-python",
   "name": "python",
   "nbconvert_exporter": "python",
   "pygments_lexer": "ipython3",
   "version": "3.9.12"
  }
 },
 "nbformat": 4,
 "nbformat_minor": 5
}
