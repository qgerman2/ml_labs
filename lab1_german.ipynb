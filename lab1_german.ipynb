{
 "cells": [
  {
   "cell_type": "code",
   "execution_count": null,
   "id": "041f3daa-0460-4dc6-93c4-d16d05c06251",
   "metadata": {},
   "outputs": [],
   "source": [
    "import matplotlib.pyplot as plt\n",
    "import numpy as np\n",
    "from sklearn . datasets import fetch_california_housing\n",
    "housing = fetch_california_housing ( as_frame = False )\n",
    "X = housing.data # ndarray con todos los features\n",
    "print(X)"
   ]
  }
 ],
 "metadata": {
  "kernelspec": {
   "display_name": "Python 3 (ipykernel)",
   "language": "python",
   "name": "python3"
  },
  "language_info": {
   "codemirror_mode": {
    "name": "ipython",
    "version": 3
   },
   "file_extension": ".py",
   "mimetype": "text/x-python",
   "name": "python",
   "nbconvert_exporter": "python",
   "pygments_lexer": "ipython3",
   "version": "3.9.12"
  }
 },
 "nbformat": 4,
 "nbformat_minor": 5
}
