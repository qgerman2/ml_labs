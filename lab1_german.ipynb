{
 "cells": [
  {
   "cell_type": "code",
   "execution_count": 79,
   "id": "041f3daa-0460-4dc6-93c4-d16d05c06251",
   "metadata": {},
   "outputs": [],
   "source": [
    "import matplotlib.pyplot as plt\n",
    "from sklearn.model_selection import train_test_split\n",
    "from sklearn.linear_model import LinearRegression\n",
    "from sklearn.metrics import mean_squared_error\n",
    "from sklearn.metrics import r2_score\n",
    "import numpy as np\n",
    "from sklearn . datasets import fetch_california_housing\n",
    "housing = fetch_california_housing ( as_frame = False )"
   ]
  },
  {
   "cell_type": "code",
   "execution_count": 80,
   "id": "b73c75a8-8638-4622-ba07-56e53c8c8db9",
   "metadata": {},
   "outputs": [
    {
     "name": "stdout",
     "output_type": "stream",
     "text": [
      "Nombre atributos: ['MedInc', 'HouseAge', 'AveRooms', 'AveBedrms', 'Population', 'AveOccup', 'Latitude', 'Longitude']\n",
      "Numero de observaciones:  20640\n"
     ]
    },
    {
     "data": {
      "text/plain": [
       "(array([ 877., 3612., 4099., 3771., 2799., 1769., 1239.,  752.,  479.,\n",
       "        1243.]),\n",
       " array([0.14999 , 0.634992, 1.119994, 1.604996, 2.089998, 2.575   ,\n",
       "        3.060002, 3.545004, 4.030006, 4.515008, 5.00001 ]),\n",
       " <BarContainer object of 10 artists>)"
      ]
     },
     "execution_count": 80,
     "metadata": {},
     "output_type": "execute_result"
    },
    {
     "data": {
      "image/png": "[encoded data removed]",
      "text/plain": [
       "<Figure size 432x288 with 1 Axes>"
      ]
     },
     "metadata": {
      "needs_background": "light"
     },
     "output_type": "display_data"
    }
   ],
   "source": [
    "##ITEM 1\n",
    "nombres = housing.feature_names # ndarray con todos los features\n",
    "x = housing.data\n",
    "y = housing.target\n",
    "print(\"Nombre atributos:\", nombres)\n",
    "print(\"Numero de observaciones: \", len(y))\n",
    "plt.hist(y)"
   ]
  },
  {
   "cell_type": "code",
   "execution_count": 81,
   "id": "b0abc272-8d24-4061-b66d-8ca9fd631b90",
   "metadata": {},
   "outputs": [
    {
     "name": "stdout",
     "output_type": "stream",
     "text": [
      "el error de entrenamiento es MSE =  0.5145924626720385\n",
      "el error de test es MSE =  0.5435945247974568\n"
     ]
    }
   ],
   "source": [
    "## ITEM 2\n",
    "X_train, X_test, y_train, y_test = train_test_split(x, y, test_size=0.40, random_state=42)\n",
    "regre = LinearRegression()\n",
    "regre.fit(X_train, y_train)\n",
    "y_train_predict = regre.predict(X_train)\n",
    "mse_train = mean_squared_error(y_train, y_train_predict)\n",
    "print('el error de entrenamiento es MSE = ', mse_train)\n",
    "\n",
    "y_test_predict = regre.predict(X_test)\n",
    "mse_train_test = mean_squared_error(y_test, y_test_predict)\n",
    "print('el error de test es MSE = ', mse_train_test)"
   ]
  },
  {
   "cell_type": "code",
   "execution_count": 82,
   "id": "e09ccd08-58f5-4c96-bfd6-e78e8d9628f0",
   "metadata": {},
   "outputs": [
    {
     "name": "stdout",
     "output_type": "stream",
     "text": [
      "R2 Training:  0.612130026035787\n",
      "R2 Test:  0.5939400468776981\n"
     ]
    }
   ],
   "source": [
    "## ITEM 3\n",
    "r2train = r2_score(y_train, y_train_predict)\n",
    "r2test = r2_score(y_test, y_test_predict)\n",
    "print(\"R2 Training: \", r2train)\n",
    "print(\"R2 Test: \", r2test)"
   ]
  },
  {
   "cell_type": "code",
   "execution_count": 83,
   "id": "3caafe38-653b-4c06-9273-047c63ffa92d",
   "metadata": {},
   "outputs": [
    {
     "name": "stdout",
     "output_type": "stream",
     "text": [
      "el error de entrenamiento es MSE 2=  2.058369850688154\n",
      "el error de test es MSE 2 =  2.1743780991898274\n",
      "R2 Training 2:  0.612130026035787\n",
      "R2 Test 2:  0.5939400468776981\n"
     ]
    }
   ],
   "source": [
    "## ITEM 4\n",
    "y2 = housing.target*2\n",
    "X_train2, X_test2, y_train2, y_test2 = train_test_split(x, y2, test_size=0.40, random_state=42)\n",
    "regre = LinearRegression()\n",
    "regre.fit(X_train2, y_train2)\n",
    "y_train_predict2 = regre.predict(X_train2)\n",
    "mse_train2 = mean_squared_error(y_train2, y_train_predict2)\n",
    "print('el error de entrenamiento es MSE 2= ', mse_train2)\n",
    "\n",
    "y_test_predict2 = regre.predict(X_test2)\n",
    "mse_train_test2 = mean_squared_error(y_test2, y_test_predict2)\n",
    "print('el error de test es MSE 2 = ', mse_train_test2)\n",
    "\n",
    "r2train2 = r2_score(y_train2, y_train_predict2)\n",
    "r2test2 = r2_score(y_test2, y_test_predict2)\n",
    "print(\"R2 Training 2: \", r2train2)\n",
    "print(\"R2 Test 2: \", r2test2)"
   ]
  },
  {
   "cell_type": "code",
   "execution_count": 112,
   "id": "254aa6ff-909b-47a1-ab3b-60bd9e75752a",
   "metadata": {},
   "outputs": [
    {
     "name": "stdout",
     "output_type": "stream",
     "text": [
      "el error de test es MSE en MedInc : 0.7086543961721935\n",
      "el error de test es MSE en HouseAge : 1.3237640951820207\n",
      "el error de test es MSE en AveRooms : 1.3081405365505503\n",
      "el error de test es MSE en AveBedrms : 1.3361745311767579\n",
      "el error de test es MSE en Population : 1.3381420490846825\n",
      "el error de test es MSE en AveOccup : 1.3380153713359506\n",
      "el error de test es MSE en Latitude : 1.3099639075017702\n",
      "el error de test es MSE en Longitude : 1.3366717786888598\n",
      "---\n",
      "el error de test es MSE ejercicio 2 =  0.5435945247974568\n"
     ]
    }
   ],
   "source": [
    "## ITEM 5\n",
    "for i in range(8):\n",
    "    x_unico = x[:,i]\n",
    "    x_unico = np.reshape(x_unico, (len(x_unico), 1))\n",
    "    X_train_unico, X_test_unico, y_train_unico, y_test_unico = train_test_split(x_unico, y, test_size=0.40, random_state=42)\n",
    "    regre_unico = LinearRegression()\n",
    "    regre_unico.fit(X_train_unico, y_train_unico)\n",
    "\n",
    "    y_test_predict_unico = regre_unico.predict(X_test_unico)\n",
    "    mse_train_test_unico = mean_squared_error(y_test_unico, y_test_predict_unico)\n",
    "    print('el error de test es MSE en', housing.feature_names[i], \":\",mse_train_test_unico)\n",
    "\n",
    "print(\"---\")\n",
    "print('el error de test es MSE ejercicio 2 = ', mse_train_test)\n",
    "\n",
    "# MEJOR SELECCIÓN\n",
    "x_mejor = x[:,0]\n",
    "x_mejor = np.reshape(x_mejor, (len(x_mejor), 1))\n",
    "X_train_mejor, X_test_mejor, y_train_mejor, y_test_mejor = train_test_split(x_mejor, y, test_size=0.40, random_state=42)\n",
    "regre_mejor = LinearRegression()\n",
    "regre_mejor.fit(X_train_mejor, y_train_mejor)\n",
    "y_test_predict_mejor = regre_mejor.predict(X_test_mejor)\n",
    "mse_train_test_mejor = mean_squared_error(y_test_mejor, y_test_predict_mejor)"
   ]
  },
  {
   "cell_type": "code",
   "execution_count": 115,
   "id": "5a1822db-0df2-46d4-b37e-996df59d83bb",
   "metadata": {},
   "outputs": [
    {
     "data": {
      "text/plain": [
       "[<matplotlib.lines.Line2D at 0x1b4f2b638b0>]"
      ]
     },
     "execution_count": 115,
     "metadata": {},
     "output_type": "execute_result"
    },
    {
     "data": {
      "image/png": "[encoded data removed]",
      "text/plain": [
       "<Figure size 432x288 with 1 Axes>"
      ]
     },
     "metadata": {
      "needs_background": "light"
     },
     "output_type": "display_data"
    }
   ],
   "source": [
    "### ITEM 6\n",
    "plt.scatter(X_test_mejor, y_test_mejor, color=\"blue\")\n",
    "plt.plot(X_test_mejor, y_test_predict_mejor, color=\"red\")"
   ]
  },
  {
   "cell_type": "code",
   "execution_count": null,
   "id": "61b94121-929e-4d51-b068-25855f79186b",
   "metadata": {},
   "outputs": [],
   "source": []
  }
 ],
 "metadata": {
  "kernelspec": {
   "display_name": "Python 3 (ipykernel)",
   "language": "python",
   "name": "python3"
  },
  "language_info": {
   "codemirror_mode": {
    "name": "ipython",
    "version": 3
   },
   "file_extension": ".py",
   "mimetype": "text/x-python",
   "name": "python",
   "nbconvert_exporter": "python",
   "pygments_lexer": "ipython3",
   "version": "3.9.12"
  }
 },
 "nbformat": 4,
 "nbformat_minor": 5
}
