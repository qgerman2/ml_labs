{
 "cells": [
  {
   "cell_type": "code",
   "execution_count": 33,
   "id": "70f02634-ca1a-4929-a486-142f4f020f80",
   "metadata": {
    "tags": []
   },
   "outputs": [],
   "source": [
    "import pandas as pd\n",
    "import numpy as np\n",
    "from sklearn.model_selection import train_test_split\n",
    "from sklearn.svm import SVC \n",
    "from sklearn.model_selection import train_test_split \n",
    "from sklearn.metrics import accuracy_score"
   ]
  },
  {
   "cell_type": "markdown",
   "id": "bfa4ae6b-2790-4493-bc13-1e52b52896e0",
   "metadata": {},
   "source": [
    "## Ejercicio 1"
   ]
  },
  {
   "cell_type": "code",
   "execution_count": 61,
   "id": "fd837b2a-01ee-402b-8bcb-2fbf3608c087",
   "metadata": {},
   "outputs": [
    {
     "name": "stdout",
     "output_type": "stream",
     "text": [
      "El accuracy de la fase de test es:  0.9976210467394346\n",
      "El accuracy de la fase de entrenamiento es:  0.9981338061024541\n",
      "El número de verdaderos positivos es:  17826\n"
     ]
    }
   ],
   "source": [
    "df = pd.read_excel('uw-vehicle-1.xlsx')\n",
    "X = df.iloc[:,0:17].values\n",
    "y = df['label'].values\n",
    "\n",
    "X_train, X_test, y_train, y_test = train_test_split(X, y, test_size=0.4, random_state=11)\n",
    "clf = SVC() \n",
    "clf.fit(X_train, y_train) \n",
    "y_test_pred = clf.predict(X_test)\n",
    "print('El accuracy de la fase de test es: ', accuracy_score(y_test, y_test_pred) ) \n",
    " \n",
    "y_train_pred = clf.predict(X_train) \n",
    "print('El accuracy de la fase de entrenamiento es: ', accuracy_score(y_train, y_train_pred))\n",
    "\n",
    "tp = np.sum(y_test == y_test_pred) + np.sum(y_train == y_train_pred)\n",
    "print('El número de verdaderos positivos es: ', tp)"
   ]
  },
  {
   "cell_type": "code",
   "execution_count": 62,
   "id": "d22aded8-6498-475a-86c7-eb9b0f1158f2",
   "metadata": {},
   "outputs": [
    {
     "data": {
      "text/plain": [
       "17863"
      ]
     },
     "execution_count": 62,
     "metadata": {},
     "output_type": "execute_result"
    }
   ],
   "source": [
    "len(y)"
   ]
  },
  {
   "cell_type": "code",
   "execution_count": null,
   "id": "47fe21d0-621c-4725-9106-aa70c087cb5e",
   "metadata": {},
   "outputs": [],
   "source": []
  }
 ],
 "metadata": {
  "kernelspec": {
   "display_name": "Python 3 (ipykernel)",
   "language": "python",
   "name": "python3"
  },
  "language_info": {
   "codemirror_mode": {
    "name": "ipython",
    "version": 3
   },
   "file_extension": ".py",
   "mimetype": "text/x-python",
   "name": "python",
   "nbconvert_exporter": "python",
   "pygments_lexer": "ipython3",
   "version": "3.9.12"
  }
 },
 "nbformat": 4,
 "nbformat_minor": 5
}
