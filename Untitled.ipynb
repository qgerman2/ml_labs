{
 "cells": [
  {
   "cell_type": "code",
   "execution_count": 1,
   "id": "f4464e9c",
   "metadata": {},
   "outputs": [
    {
     "data": {
      "text/html": [
       "<div>\n",
       "<style scoped>\n",
       "    .dataframe tbody tr th:only-of-type {\n",
       "        vertical-align: middle;\n",
       "    }\n",
       "\n",
       "    .dataframe tbody tr th {\n",
       "        vertical-align: top;\n",
       "    }\n",
       "\n",
       "    .dataframe thead th {\n",
       "        text-align: right;\n",
       "    }\n",
       "</style>\n",
       "<table border=\"1\" class=\"dataframe\">\n",
       "  <thead>\n",
       "    <tr style=\"text-align: right;\">\n",
       "      <th></th>\n",
       "      <th>rps</th>\n",
       "      <th>max</th>\n",
       "      <th>rms</th>\n",
       "      <th>kurt</th>\n",
       "      <th>label</th>\n",
       "    </tr>\n",
       "  </thead>\n",
       "  <tbody>\n",
       "    <tr>\n",
       "      <th>0</th>\n",
       "      <td>15.024038</td>\n",
       "      <td>0.311521</td>\n",
       "      <td>0.029794</td>\n",
       "      <td>7.642549</td>\n",
       "      <td>1</td>\n",
       "    </tr>\n",
       "    <tr>\n",
       "      <th>1</th>\n",
       "      <td>15.024038</td>\n",
       "      <td>0.216155</td>\n",
       "      <td>0.022242</td>\n",
       "      <td>6.541628</td>\n",
       "      <td>1</td>\n",
       "    </tr>\n",
       "    <tr>\n",
       "      <th>2</th>\n",
       "      <td>15.024038</td>\n",
       "      <td>0.255288</td>\n",
       "      <td>0.028959</td>\n",
       "      <td>9.691690</td>\n",
       "      <td>1</td>\n",
       "    </tr>\n",
       "    <tr>\n",
       "      <th>3</th>\n",
       "      <td>15.988251</td>\n",
       "      <td>0.323688</td>\n",
       "      <td>0.030494</td>\n",
       "      <td>8.147744</td>\n",
       "      <td>1</td>\n",
       "    </tr>\n",
       "    <tr>\n",
       "      <th>4</th>\n",
       "      <td>16.276042</td>\n",
       "      <td>0.210893</td>\n",
       "      <td>0.024360</td>\n",
       "      <td>6.408226</td>\n",
       "      <td>1</td>\n",
       "    </tr>\n",
       "    <tr>\n",
       "      <th>...</th>\n",
       "      <td>...</td>\n",
       "      <td>...</td>\n",
       "      <td>...</td>\n",
       "      <td>...</td>\n",
       "      <td>...</td>\n",
       "    </tr>\n",
       "    <tr>\n",
       "      <th>1795</th>\n",
       "      <td>15.024038</td>\n",
       "      <td>0.032001</td>\n",
       "      <td>0.008162</td>\n",
       "      <td>0.545736</td>\n",
       "      <td>2</td>\n",
       "    </tr>\n",
       "    <tr>\n",
       "      <th>1796</th>\n",
       "      <td>15.024038</td>\n",
       "      <td>0.030685</td>\n",
       "      <td>0.007978</td>\n",
       "      <td>0.637705</td>\n",
       "      <td>2</td>\n",
       "    </tr>\n",
       "    <tr>\n",
       "      <th>1797</th>\n",
       "      <td>15.024038</td>\n",
       "      <td>0.034960</td>\n",
       "      <td>0.008167</td>\n",
       "      <td>0.576496</td>\n",
       "      <td>2</td>\n",
       "    </tr>\n",
       "    <tr>\n",
       "      <th>1798</th>\n",
       "      <td>14.551837</td>\n",
       "      <td>0.031014</td>\n",
       "      <td>0.008032</td>\n",
       "      <td>0.468465</td>\n",
       "      <td>2</td>\n",
       "    </tr>\n",
       "    <tr>\n",
       "      <th>1799</th>\n",
       "      <td>13.950893</td>\n",
       "      <td>0.038906</td>\n",
       "      <td>0.007807</td>\n",
       "      <td>0.701163</td>\n",
       "      <td>2</td>\n",
       "    </tr>\n",
       "  </tbody>\n",
       "</table>\n",
       "<p>1800 rows × 5 columns</p>\n",
       "</div>"
      ],
      "text/plain": [
       "            rps       max       rms      kurt  label\n",
       "0     15.024038  0.311521  0.029794  7.642549      1\n",
       "1     15.024038  0.216155  0.022242  6.541628      1\n",
       "2     15.024038  0.255288  0.028959  9.691690      1\n",
       "3     15.988251  0.323688  0.030494  8.147744      1\n",
       "4     16.276042  0.210893  0.024360  6.408226      1\n",
       "...         ...       ...       ...       ...    ...\n",
       "1795  15.024038  0.032001  0.008162  0.545736      2\n",
       "1796  15.024038  0.030685  0.007978  0.637705      2\n",
       "1797  15.024038  0.034960  0.008167  0.576496      2\n",
       "1798  14.551837  0.031014  0.008032  0.468465      2\n",
       "1799  13.950893  0.038906  0.007807  0.701163      2\n",
       "\n",
       "[1800 rows x 5 columns]"
      ]
     },
     "metadata": {},
     "output_type": "display_data"
    },
    {
     "data": {
      "text/plain": [
       "array([[1.50240385e+01, 3.11520735e-01, 2.97939555e-02, 7.64254855e+00],\n",
       "       [1.50240385e+01, 2.16155053e-01, 2.22417637e-02, 6.54162790e+00],\n",
       "       [1.50240385e+01, 2.55287866e-01, 2.89586583e-02, 9.69169014e+00],\n",
       "       ...,\n",
       "       [1.50240385e+01, 3.49602789e-02, 8.16676767e-03, 5.76496280e-01],\n",
       "       [1.45518373e+01, 3.10141135e-02, 8.03191236e-03, 4.68464805e-01],\n",
       "       [1.39508929e+01, 3.89064443e-02, 7.80698809e-03, 7.01162602e-01]])"
      ]
     },
     "metadata": {},
     "output_type": "display_data"
    },
    {
     "data": {
      "text/plain": [
       "array([1., 1., 1., ..., 2., 2., 2.])"
      ]
     },
     "metadata": {},
     "output_type": "display_data"
    }
   ],
   "source": [
    "import pandas as pd\n",
    "df = pd.read_excel ('data-bearing-simple.xlsx', index_col =0)\n",
    "display ( df ) # visualiza dataframe\n",
    "X = df.values [: , 0:4] # valores a b segun corresponda\n",
    "y = df.values [: , 4] # valor c segun corresponda\n",
    "\n",
    "display(X)\n",
    "display(y)"
   ]
  },
  {
   "cell_type": "code",
   "execution_count": 2,
   "id": "b6141155",
   "metadata": {},
   "outputs": [],
   "source": [
    "from sklearn.model_selection import train_test_split\n",
    "from sklearn.linear_model import LogisticRegression\n",
    "from sklearn.metrics import accuracy_score\n",
    "X_train, X_test, y_train, y_test = train_test_split(X, y, test_size=0.2, random_state=17)"
   ]
  },
  {
   "cell_type": "code",
   "execution_count": 3,
   "id": "bb990e95-4c01-4e7b-b15a-a4af3a2d6692",
   "metadata": {},
   "outputs": [
    {
     "name": "stdout",
     "output_type": "stream",
     "text": [
      "la exactitud de entrenamiento es =  0.7763888888888889\n",
      "la exactitud de test es =  0.7194444444444444\n"
     ]
    }
   ],
   "source": [
    "#entrenamiento del modelo 2\n",
    "logregre = LogisticRegression()\n",
    "logregre.fit(X_train, y_train)\n",
    "y_train_predict = logregre.predict(X_train)\n",
    "print('la exactitud de entrenamiento es = ', accuracy_score(y_train, y_train_predict))\n",
    "\n",
    "#test del modelo\n",
    "y_test_predict = logregre.predict(X_test)\n",
    "print('la exactitud de test es = ', accuracy_score(y_test, y_test_predict))"
   ]
  },
  {
   "cell_type": "code",
   "execution_count": 4,
   "id": "4ab1df1f-de01-4080-acf3-1c62c9f088fa",
   "metadata": {},
   "outputs": [
    {
     "name": "stdout",
     "output_type": "stream",
     "text": [
      "['mean_fit_time', 'mean_score_time', 'mean_test_score', 'param_C', 'param_solver', 'params', 'rank_test_score', 'split0_test_score', 'split1_test_score', 'split2_test_score', 'split3_test_score', 'split4_test_score', 'std_fit_time', 'std_score_time', 'std_test_score']\n"
     ]
    }
   ],
   "source": [
    "from sklearn.model_selection import GridSearchCV\n",
    "X_train_2, X_val, y_train_2, y_val = train_test_split(X_train, y_train, test_size=0.25, random_state=17)\n",
    "hparameters = {'solver':('lbfgs', 'sag', 'newton-cg'), 'C':[0.01, 1, 100]}\n",
    "logregre_2 = LogisticRegression(max_iter=10000)\n",
    "logregre_2.fit(X_train_2, y_train_2)\n",
    "grids = GridSearchCV(logregre_2, hparameters, scoring='accuracy', cv=5)\n",
    "grids.fit(X_train_2, y_train_2)\n"
   ]
  },
  {
   "cell_type": "code",
   "execution_count": null,
   "id": "004c9b64-8b3e-4ac8-aeda-df450f2e4dad",
   "metadata": {},
   "outputs": [],
   "source": []
  }
 ],
 "metadata": {
  "kernelspec": {
   "display_name": "Python 3 (ipykernel)",
   "language": "python",
   "name": "python3"
  },
  "language_info": {
   "codemirror_mode": {
    "name": "ipython",
    "version": 3
   },
   "file_extension": ".py",
   "mimetype": "text/x-python",
   "name": "python",
   "nbconvert_exporter": "python",
   "pygments_lexer": "ipython3",
   "version": "3.9.12"
  }
 },
 "nbformat": 4,
 "nbformat_minor": 5
}
